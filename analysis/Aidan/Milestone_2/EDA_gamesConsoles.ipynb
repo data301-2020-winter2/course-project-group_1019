{
 "cells": [
  {
   "cell_type": "markdown",
   "id": "official-travel",
   "metadata": {},
   "source": [
    "**Individual EDA** - *Aidan Murphy*\n",
    "--\n",
    "This EDA aims to take a more holistic view of the dataset using the consoles as microchosims of the system which surrounds videogames. By doing this we can try and explore how different factors affect the sale of videogames, and other factors"
   ]
  },
  {
   "cell_type": "markdown",
   "id": "binding-appreciation",
   "metadata": {},
   "source": [
    "## research questions:\n",
    " - How many games are available on different consoles?\n",
    " - Factors affecting the success of a console (measured by global sales)\n",
    " \n",
    "### Basic description:\n",
    "The raw data was obtained from [kaggle](\"https://www.kaggle.com/rush4ratio/video-game-sales-with-ratings\"), and is a user compiled data set which extends a scrape already performed by Metacritic. It includes over 16,000 entries, of which ~6,900 have all aspects complete. Each entry features a videogame and the console/platform it was released on, and entries include release dates from 1980 to 2016. As the extracted information will show, this dataset is likely not complete, and once incomplete entries are removed, it is very much a random selection of games from the 80's to the mid 2010's.\n",
    "\n",
    "The dataset uses the word Platforms, I will be using the word Consoles in this EDA.\n",
    " "
   ]
  },
  {
   "cell_type": "markdown",
   "id": "retired-rubber",
   "metadata": {},
   "source": [
    "# Basic data manipulation\n",
    "because we are going to look at a few different aspects of the data we are goin to need to change the data in different ways throughout, so to start we are just going to do some basic cleaning up, starting by importing the necessary packages:"
   ]
  },
  {
   "cell_type": "code",
   "execution_count": 2,
   "id": "interested-friend",
   "metadata": {},
   "outputs": [],
   "source": [
    "import pandas as pd\n",
    "import seaborn as sns\n",
    "import matplotlib.pyplot as plt\n",
    "import numpy as np\n",
    "import pandas_profiling as pdp\n",
    "\n",
    "\n",
    "sns.set_style(\"ticks\")"
   ]
  },
  {
   "cell_type": "code",
   "execution_count": 3,
   "id": "sharp-fighter",
   "metadata": {},
   "outputs": [],
   "source": [
    "from AidsProject_functions import sortconsole\n",
    "from AidsProject_functions import available\n",
    "from AidsProject_functions import popular\n",
    "\n",
    "import sys\n",
    "sys.path.insert(1, '../../scripts')\n",
    "\n",
    "# Imports the project_functions.py file containing the different functions\n",
    "import project_functions\n",
    "\n",
    "import warnings\n",
    "warnings.filterwarnings('ignore')\n"
   ]
  },
  {
   "cell_type": "code",
   "execution_count": 4,
   "id": "warming-converter",
   "metadata": {},
   "outputs": [
    {
     "name": "stdout",
     "output_type": "stream",
     "text": [
      "<class 'pandas.core.frame.DataFrame'>\n",
      "RangeIndex: 16719 entries, 0 to 16718\n",
      "Data columns (total 16 columns):\n",
      " #   Column           Non-Null Count  Dtype  \n",
      "---  ------           --------------  -----  \n",
      " 0   Name             16717 non-null  object \n",
      " 1   Platform         16719 non-null  object \n",
      " 2   Year_of_Release  16450 non-null  float64\n",
      " 3   Genre            16717 non-null  object \n",
      " 4   Publisher        16665 non-null  object \n",
      " 5   NA_Sales         16719 non-null  float64\n",
      " 6   EU_Sales         16719 non-null  float64\n",
      " 7   JP_Sales         16719 non-null  float64\n",
      " 8   Other_Sales      16719 non-null  float64\n",
      " 9   Global_Sales     16719 non-null  float64\n",
      " 10  Critic_Score     8137 non-null   float64\n",
      " 11  Critic_Count     8137 non-null   float64\n",
      " 12  User_Score       10015 non-null  object \n",
      " 13  User_Count       7590 non-null   float64\n",
      " 14  Developer        10096 non-null  object \n",
      " 15  Rating           9950 non-null   object \n",
      "dtypes: float64(9), object(7)\n",
      "memory usage: 2.0+ MB\n",
      "None\n"
     ]
    },
    {
     "name": "stderr",
     "output_type": "stream",
     "text": [
      "../../scripts\\project_functions.py:20: SettingWithCopyWarning: \n",
      "A value is trying to be set on a copy of a slice from a DataFrame\n",
      "\n",
      "See the caveats in the documentation: https://pandas.pydata.org/pandas-docs/stable/user_guide/indexing.html#returning-a-view-versus-a-copy\n",
      "  rawdata.User_Score[rownumber] = 'NaN'\n",
      "../../scripts\\project_functions.py:27: SettingWithCopyWarning: \n",
      "A value is trying to be set on a copy of a slice from a DataFrame.\n",
      "Try using .loc[row_indexer,col_indexer] = value instead\n",
      "\n",
      "See the caveats in the documentation: https://pandas.pydata.org/pandas-docs/stable/user_guide/indexing.html#returning-a-view-versus-a-copy\n",
      "  dataclean['Name'] = dataclean['Name'].astype(\"string\")\n",
      "../../scripts\\project_functions.py:28: SettingWithCopyWarning: \n",
      "A value is trying to be set on a copy of a slice from a DataFrame.\n",
      "Try using .loc[row_indexer,col_indexer] = value instead\n",
      "\n",
      "See the caveats in the documentation: https://pandas.pydata.org/pandas-docs/stable/user_guide/indexing.html#returning-a-view-versus-a-copy\n",
      "  dataclean['Platform'] = dataclean['Platform'].astype(\"category\")\n",
      "../../scripts\\project_functions.py:29: SettingWithCopyWarning: \n",
      "A value is trying to be set on a copy of a slice from a DataFrame.\n",
      "Try using .loc[row_indexer,col_indexer] = value instead\n",
      "\n",
      "See the caveats in the documentation: https://pandas.pydata.org/pandas-docs/stable/user_guide/indexing.html#returning-a-view-versus-a-copy\n",
      "  dataclean['Year_of_Release'] = dataclean['Year_of_Release'].astype('int64')\n",
      "../../scripts\\project_functions.py:30: SettingWithCopyWarning: \n",
      "A value is trying to be set on a copy of a slice from a DataFrame.\n",
      "Try using .loc[row_indexer,col_indexer] = value instead\n",
      "\n",
      "See the caveats in the documentation: https://pandas.pydata.org/pandas-docs/stable/user_guide/indexing.html#returning-a-view-versus-a-copy\n",
      "  dataclean['Genre'] = dataclean['Genre'].astype('category')\n",
      "../../scripts\\project_functions.py:31: SettingWithCopyWarning: \n",
      "A value is trying to be set on a copy of a slice from a DataFrame.\n",
      "Try using .loc[row_indexer,col_indexer] = value instead\n",
      "\n",
      "See the caveats in the documentation: https://pandas.pydata.org/pandas-docs/stable/user_guide/indexing.html#returning-a-view-versus-a-copy\n",
      "  dataclean['Publisher'] = dataclean['Publisher'].astype(\"string\")\n",
      "../../scripts\\project_functions.py:32: SettingWithCopyWarning: \n",
      "A value is trying to be set on a copy of a slice from a DataFrame.\n",
      "Try using .loc[row_indexer,col_indexer] = value instead\n",
      "\n",
      "See the caveats in the documentation: https://pandas.pydata.org/pandas-docs/stable/user_guide/indexing.html#returning-a-view-versus-a-copy\n",
      "  dataclean['NA_Sales'] = dataclean['NA_Sales'].astype(\"float\")\n",
      "../../scripts\\project_functions.py:33: SettingWithCopyWarning: \n",
      "A value is trying to be set on a copy of a slice from a DataFrame.\n",
      "Try using .loc[row_indexer,col_indexer] = value instead\n",
      "\n",
      "See the caveats in the documentation: https://pandas.pydata.org/pandas-docs/stable/user_guide/indexing.html#returning-a-view-versus-a-copy\n",
      "  dataclean['EU_Sales'] = dataclean['EU_Sales'].astype(\"float\")\n",
      "../../scripts\\project_functions.py:34: SettingWithCopyWarning: \n",
      "A value is trying to be set on a copy of a slice from a DataFrame.\n",
      "Try using .loc[row_indexer,col_indexer] = value instead\n",
      "\n",
      "See the caveats in the documentation: https://pandas.pydata.org/pandas-docs/stable/user_guide/indexing.html#returning-a-view-versus-a-copy\n",
      "  dataclean['JP_Sales'] = dataclean['JP_Sales'].astype(\"float\")\n",
      "../../scripts\\project_functions.py:35: SettingWithCopyWarning: \n",
      "A value is trying to be set on a copy of a slice from a DataFrame.\n",
      "Try using .loc[row_indexer,col_indexer] = value instead\n",
      "\n",
      "See the caveats in the documentation: https://pandas.pydata.org/pandas-docs/stable/user_guide/indexing.html#returning-a-view-versus-a-copy\n",
      "  dataclean['Other_Sales'] = dataclean['Other_Sales'].astype(\"float\")\n",
      "../../scripts\\project_functions.py:36: SettingWithCopyWarning: \n",
      "A value is trying to be set on a copy of a slice from a DataFrame.\n",
      "Try using .loc[row_indexer,col_indexer] = value instead\n",
      "\n",
      "See the caveats in the documentation: https://pandas.pydata.org/pandas-docs/stable/user_guide/indexing.html#returning-a-view-versus-a-copy\n",
      "  dataclean['Global_Sales']= dataclean['Global_Sales'].astype(\"float\")\n",
      "../../scripts\\project_functions.py:37: SettingWithCopyWarning: \n",
      "A value is trying to be set on a copy of a slice from a DataFrame.\n",
      "Try using .loc[row_indexer,col_indexer] = value instead\n",
      "\n",
      "See the caveats in the documentation: https://pandas.pydata.org/pandas-docs/stable/user_guide/indexing.html#returning-a-view-versus-a-copy\n",
      "  dataclean['Critic_Score'] = dataclean['Critic_Score'].astype(\"float\")\n",
      "../../scripts\\project_functions.py:38: SettingWithCopyWarning: \n",
      "A value is trying to be set on a copy of a slice from a DataFrame.\n",
      "Try using .loc[row_indexer,col_indexer] = value instead\n",
      "\n",
      "See the caveats in the documentation: https://pandas.pydata.org/pandas-docs/stable/user_guide/indexing.html#returning-a-view-versus-a-copy\n",
      "  dataclean['Critic_Count'] = dataclean['Critic_Count'].astype(\"float\")\n",
      "../../scripts\\project_functions.py:39: SettingWithCopyWarning: \n",
      "A value is trying to be set on a copy of a slice from a DataFrame.\n",
      "Try using .loc[row_indexer,col_indexer] = value instead\n",
      "\n",
      "See the caveats in the documentation: https://pandas.pydata.org/pandas-docs/stable/user_guide/indexing.html#returning-a-view-versus-a-copy\n",
      "  dataclean['User_Score'] = dataclean['User_Score'].astype(\"float\")\n",
      "../../scripts\\project_functions.py:40: SettingWithCopyWarning: \n",
      "A value is trying to be set on a copy of a slice from a DataFrame.\n",
      "Try using .loc[row_indexer,col_indexer] = value instead\n",
      "\n",
      "See the caveats in the documentation: https://pandas.pydata.org/pandas-docs/stable/user_guide/indexing.html#returning-a-view-versus-a-copy\n",
      "  dataclean['User_Count'] = dataclean['User_Count'].astype(\"float\")\n",
      "../../scripts\\project_functions.py:41: SettingWithCopyWarning: \n",
      "A value is trying to be set on a copy of a slice from a DataFrame.\n",
      "Try using .loc[row_indexer,col_indexer] = value instead\n",
      "\n",
      "See the caveats in the documentation: https://pandas.pydata.org/pandas-docs/stable/user_guide/indexing.html#returning-a-view-versus-a-copy\n",
      "  dataclean['Developer'] = dataclean['Developer'].astype('string')\n",
      "../../scripts\\project_functions.py:42: SettingWithCopyWarning: \n",
      "A value is trying to be set on a copy of a slice from a DataFrame.\n",
      "Try using .loc[row_indexer,col_indexer] = value instead\n",
      "\n",
      "See the caveats in the documentation: https://pandas.pydata.org/pandas-docs/stable/user_guide/indexing.html#returning-a-view-versus-a-copy\n",
      "  dataclean['Rating'] = dataclean['Rating'].astype('category')\n"
     ]
    },
    {
     "name": "stdout",
     "output_type": "stream",
     "text": [
      "<class 'pandas.core.frame.DataFrame'>\n",
      "RangeIndex: 6825 entries, 0 to 6824\n",
      "Data columns (total 16 columns):\n",
      " #   Column           Non-Null Count  Dtype   \n",
      "---  ------           --------------  -----   \n",
      " 0   Name             6825 non-null   string  \n",
      " 1   Platform         6825 non-null   category\n",
      " 2   Year_of_Release  6825 non-null   int64   \n",
      " 3   Genre            6825 non-null   category\n",
      " 4   Publisher        6825 non-null   string  \n",
      " 5   NA_Sales         6825 non-null   float64 \n",
      " 6   EU_Sales         6825 non-null   float64 \n",
      " 7   JP_Sales         6825 non-null   float64 \n",
      " 8   Other_Sales      6825 non-null   float64 \n",
      " 9   Global_Sales     6825 non-null   float64 \n",
      " 10  Critic_Score     6825 non-null   float64 \n",
      " 11  Critic_Count     6825 non-null   float64 \n",
      " 12  User_Score       6825 non-null   float64 \n",
      " 13  User_Count       6825 non-null   float64 \n",
      " 14  Developer        6825 non-null   string  \n",
      " 15  Rating           6825 non-null   category\n",
      "dtypes: category(3), float64(9), int64(1), string(3)\n",
      "memory usage: 714.7 KB\n",
      "None\n",
      "6825\n"
     ]
    }
   ],
   "source": [
    "##import data and perform basic cleaning (i.e, removing unwanted columns and adding new columns)\n",
    "\n",
    "df = project_functions.load_and_process()\n",
    "df.to_csv('../../../data/processed/tableau_import.csv')\n",
    "df = available(sortconsole(df))\n",
    "print(len(df.index))"
   ]
  },
  {
   "cell_type": "markdown",
   "id": "acting-washington",
   "metadata": {},
   "source": [
    "# info by regions\n",
    "as you will see the number of games available to each region is not that different so we are going to use global sales beyond this when measuring the success of videogames for a particular console."
   ]
  },
  {
   "cell_type": "code",
   "execution_count": 5,
   "id": "absolute-sociology",
   "metadata": {},
   "outputs": [
    {
     "data": {
      "image/png": "[encoded data removed]",
      "text/plain": [
       "<Figure size 432x288 with 1 Axes>"
      ]
     },
     "metadata": {},
     "output_type": "display_data"
    }
   ],
   "source": [
    "\n",
    "plot = sns.countplot(y = 'Platform',data = df,order = df['Platform'].value_counts().index).set_title(\"Number of games available on each console\")\n",
    "plt.savefig('numAvail.png', bbox_inches='tight')"
   ]
  },
  {
   "cell_type": "code",
   "execution_count": 6,
   "id": "smart-threshold",
   "metadata": {},
   "outputs": [
    {
     "data": {
      "image/png": "[encoded data removed]",
      "text/plain": [
       "<Figure size 432x288 with 1 Axes>"
      ]
     },
     "metadata": {},
     "output_type": "display_data"
    }
   ],
   "source": [
    "plot = sns.countplot(y = 'Platform',data = df.drop(df[df.JP < 1].index ), order = df['Platform'].value_counts().index).set_title(\"Number games available on each console, in Japan\")\n",
    "plt.savefig('numAvailJP.png', bbox_inches='tight')"
   ]
  },
  {
   "cell_type": "code",
   "execution_count": 7,
   "id": "danish-scout",
   "metadata": {},
   "outputs": [
    {
     "ename": "KeyError",
     "evalue": "'Developer'",
     "output_type": "error",
     "traceback": [
      "\u001b[1;31m---------------------------------------------------------------------------\u001b[0m",
      "\u001b[1;31mKeyError\u001b[0m                                  Traceback (most recent call last)",
      "\u001b[1;32m~\\miniconda3\\lib\\site-packages\\pandas\\core\\indexes\\base.py\u001b[0m in \u001b[0;36mget_loc\u001b[1;34m(self, key, method, tolerance)\u001b[0m\n\u001b[0;32m   3079\u001b[0m             \u001b[1;32mtry\u001b[0m\u001b[1;33m:\u001b[0m\u001b[1;33m\u001b[0m\u001b[1;33m\u001b[0m\u001b[0m\n\u001b[1;32m-> 3080\u001b[1;33m                 \u001b[1;32mreturn\u001b[0m \u001b[0mself\u001b[0m\u001b[1;33m.\u001b[0m\u001b[0m_engine\u001b[0m\u001b[1;33m.\u001b[0m\u001b[0mget_loc\u001b[0m\u001b[1;33m(\u001b[0m\u001b[0mcasted_key\u001b[0m\u001b[1;33m)\u001b[0m\u001b[1;33m\u001b[0m\u001b[1;33m\u001b[0m\u001b[0m\n\u001b[0m\u001b[0;32m   3081\u001b[0m             \u001b[1;32mexcept\u001b[0m \u001b[0mKeyError\u001b[0m \u001b[1;32mas\u001b[0m \u001b[0merr\u001b[0m\u001b[1;33m:\u001b[0m\u001b[1;33m\u001b[0m\u001b[1;33m\u001b[0m\u001b[0m\n",
      "\u001b[1;32mpandas\\_libs\\index.pyx\u001b[0m in \u001b[0;36mpandas._libs.index.IndexEngine.get_loc\u001b[1;34m()\u001b[0m\n",
      "\u001b[1;32mpandas\\_libs\\index.pyx\u001b[0m in \u001b[0;36mpandas._libs.index.IndexEngine.get_loc\u001b[1;34m()\u001b[0m\n",
      "\u001b[1;32mpandas\\_libs\\hashtable_class_helper.pxi\u001b[0m in \u001b[0;36mpandas._libs.hashtable.PyObjectHashTable.get_item\u001b[1;34m()\u001b[0m\n",
      "\u001b[1;32mpandas\\_libs\\hashtable_class_helper.pxi\u001b[0m in \u001b[0;36mpandas._libs.hashtable.PyObjectHashTable.get_item\u001b[1;34m()\u001b[0m\n",
      "\u001b[1;31mKeyError\u001b[0m: 'Developer'",
      "\nThe above exception was the direct cause of the following exception:\n",
      "\u001b[1;31mKeyError\u001b[0m                                  Traceback (most recent call last)",
      "\u001b[1;32m<ipython-input-7-7ab3b048e069>\u001b[0m in \u001b[0;36m<module>\u001b[1;34m\u001b[0m\n\u001b[1;32m----> 1\u001b[1;33m \u001b[0mplot\u001b[0m \u001b[1;33m=\u001b[0m \u001b[0msns\u001b[0m\u001b[1;33m.\u001b[0m\u001b[0mcountplot\u001b[0m\u001b[1;33m(\u001b[0m\u001b[0my\u001b[0m \u001b[1;33m=\u001b[0m \u001b[1;34m'Developer'\u001b[0m\u001b[1;33m,\u001b[0m\u001b[0mdata\u001b[0m \u001b[1;33m=\u001b[0m \u001b[0mdf\u001b[0m\u001b[1;33m.\u001b[0m\u001b[0mdrop\u001b[0m\u001b[1;33m(\u001b[0m\u001b[0mdf\u001b[0m\u001b[1;33m[\u001b[0m\u001b[0mdf\u001b[0m\u001b[1;33m.\u001b[0m\u001b[0mNA\u001b[0m \u001b[1;33m<\u001b[0m \u001b[1;36m1\u001b[0m\u001b[1;33m]\u001b[0m\u001b[1;33m.\u001b[0m\u001b[0mindex\u001b[0m \u001b[1;33m)\u001b[0m\u001b[1;33m,\u001b[0m \u001b[0morder\u001b[0m \u001b[1;33m=\u001b[0m \u001b[0mdf\u001b[0m\u001b[1;33m[\u001b[0m\u001b[1;34m'Developer'\u001b[0m\u001b[1;33m]\u001b[0m\u001b[1;33m.\u001b[0m\u001b[0mvalue_counts\u001b[0m\u001b[1;33m(\u001b[0m\u001b[1;33m)\u001b[0m\u001b[1;33m.\u001b[0m\u001b[0miloc\u001b[0m\u001b[1;33m[\u001b[0m\u001b[1;33m:\u001b[0m\u001b[1;36m5\u001b[0m\u001b[1;33m]\u001b[0m\u001b[1;33m.\u001b[0m\u001b[0mindex\u001b[0m\u001b[1;33m)\u001b[0m\u001b[1;33m.\u001b[0m\u001b[0mset_title\u001b[0m\u001b[1;33m(\u001b[0m\u001b[1;34m\"Number games available on each console, in North America\"\u001b[0m\u001b[1;33m)\u001b[0m\u001b[1;33m\u001b[0m\u001b[1;33m\u001b[0m\u001b[0m\n\u001b[0m\u001b[0;32m      2\u001b[0m \u001b[0mplt\u001b[0m\u001b[1;33m.\u001b[0m\u001b[0msavefig\u001b[0m\u001b[1;33m(\u001b[0m\u001b[1;34m'numAvailNA.png'\u001b[0m\u001b[1;33m,\u001b[0m \u001b[0mbbox_inches\u001b[0m\u001b[1;33m=\u001b[0m\u001b[1;34m'tight'\u001b[0m\u001b[1;33m)\u001b[0m\u001b[1;33m\u001b[0m\u001b[1;33m\u001b[0m\u001b[0m\n",
      "\u001b[1;32m~\\miniconda3\\lib\\site-packages\\pandas\\core\\frame.py\u001b[0m in \u001b[0;36m__getitem__\u001b[1;34m(self, key)\u001b[0m\n\u001b[0;32m   3022\u001b[0m             \u001b[1;32mif\u001b[0m \u001b[0mself\u001b[0m\u001b[1;33m.\u001b[0m\u001b[0mcolumns\u001b[0m\u001b[1;33m.\u001b[0m\u001b[0mnlevels\u001b[0m \u001b[1;33m>\u001b[0m \u001b[1;36m1\u001b[0m\u001b[1;33m:\u001b[0m\u001b[1;33m\u001b[0m\u001b[1;33m\u001b[0m\u001b[0m\n\u001b[0;32m   3023\u001b[0m                 \u001b[1;32mreturn\u001b[0m \u001b[0mself\u001b[0m\u001b[1;33m.\u001b[0m\u001b[0m_getitem_multilevel\u001b[0m\u001b[1;33m(\u001b[0m\u001b[0mkey\u001b[0m\u001b[1;33m)\u001b[0m\u001b[1;33m\u001b[0m\u001b[1;33m\u001b[0m\u001b[0m\n\u001b[1;32m-> 3024\u001b[1;33m             \u001b[0mindexer\u001b[0m \u001b[1;33m=\u001b[0m \u001b[0mself\u001b[0m\u001b[1;33m.\u001b[0m\u001b[0mcolumns\u001b[0m\u001b[1;33m.\u001b[0m\u001b[0mget_loc\u001b[0m\u001b[1;33m(\u001b[0m\u001b[0mkey\u001b[0m\u001b[1;33m)\u001b[0m\u001b[1;33m\u001b[0m\u001b[1;33m\u001b[0m\u001b[0m\n\u001b[0m\u001b[0;32m   3025\u001b[0m             \u001b[1;32mif\u001b[0m \u001b[0mis_integer\u001b[0m\u001b[1;33m(\u001b[0m\u001b[0mindexer\u001b[0m\u001b[1;33m)\u001b[0m\u001b[1;33m:\u001b[0m\u001b[1;33m\u001b[0m\u001b[1;33m\u001b[0m\u001b[0m\n\u001b[0;32m   3026\u001b[0m                 \u001b[0mindexer\u001b[0m \u001b[1;33m=\u001b[0m \u001b[1;33m[\u001b[0m\u001b[0mindexer\u001b[0m\u001b[1;33m]\u001b[0m\u001b[1;33m\u001b[0m\u001b[1;33m\u001b[0m\u001b[0m\n",
      "\u001b[1;32m~\\miniconda3\\lib\\site-packages\\pandas\\core\\indexes\\base.py\u001b[0m in \u001b[0;36mget_loc\u001b[1;34m(self, key, method, tolerance)\u001b[0m\n\u001b[0;32m   3080\u001b[0m                 \u001b[1;32mreturn\u001b[0m \u001b[0mself\u001b[0m\u001b[1;33m.\u001b[0m\u001b[0m_engine\u001b[0m\u001b[1;33m.\u001b[0m\u001b[0mget_loc\u001b[0m\u001b[1;33m(\u001b[0m\u001b[0mcasted_key\u001b[0m\u001b[1;33m)\u001b[0m\u001b[1;33m\u001b[0m\u001b[1;33m\u001b[0m\u001b[0m\n\u001b[0;32m   3081\u001b[0m             \u001b[1;32mexcept\u001b[0m \u001b[0mKeyError\u001b[0m \u001b[1;32mas\u001b[0m \u001b[0merr\u001b[0m\u001b[1;33m:\u001b[0m\u001b[1;33m\u001b[0m\u001b[1;33m\u001b[0m\u001b[0m\n\u001b[1;32m-> 3082\u001b[1;33m                 \u001b[1;32mraise\u001b[0m \u001b[0mKeyError\u001b[0m\u001b[1;33m(\u001b[0m\u001b[0mkey\u001b[0m\u001b[1;33m)\u001b[0m \u001b[1;32mfrom\u001b[0m \u001b[0merr\u001b[0m\u001b[1;33m\u001b[0m\u001b[1;33m\u001b[0m\u001b[0m\n\u001b[0m\u001b[0;32m   3083\u001b[0m \u001b[1;33m\u001b[0m\u001b[0m\n\u001b[0;32m   3084\u001b[0m         \u001b[1;32mif\u001b[0m \u001b[0mtolerance\u001b[0m \u001b[1;32mis\u001b[0m \u001b[1;32mnot\u001b[0m \u001b[1;32mNone\u001b[0m\u001b[1;33m:\u001b[0m\u001b[1;33m\u001b[0m\u001b[1;33m\u001b[0m\u001b[0m\n",
      "\u001b[1;31mKeyError\u001b[0m: 'Developer'"
     ]
    }
   ],
   "source": [
    "plot = sns.countplot(y = 'Developer',data = df.drop(df[df.NA < 1].index ), order = df['Developer'].value_counts().iloc[:5].index).set_title(\"Number games available on each console, in North America\")\n",
    "plt.savefig('numAvailNA.png', bbox_inches='tight')"
   ]
  },
  {
   "cell_type": "code",
   "execution_count": null,
   "id": "cultural-mumbai",
   "metadata": {},
   "outputs": [],
   "source": [
    "plot = sns.countplot(y = 'Platform',data = df.drop(df[df.EU < 1].index ), order = df['Platform'].value_counts().index).set_title(\"Number games available on each console, in Europe\")\n",
    "plt.savefig('numAvailEU.png', bbox_inches='tight')"
   ]
  },
  {
   "cell_type": "code",
   "execution_count": null,
   "id": "determined-world",
   "metadata": {},
   "outputs": [],
   "source": [
    "plot = sns.countplot(y = 'Platform',data = df.drop(df[df.OTHER < 1].index ), order = df['Platform'].value_counts().index).set_title(\"Number games available on each console, in Other parts\")\n",
    "plt.savefig('numAvailOther.png', bbox_inches='tight')"
   ]
  },
  {
   "cell_type": "markdown",
   "id": "british-judges",
   "metadata": {},
   "source": [
    "### available games on each console\n",
    "It would seem that all over the world the 3 consoles with the largest selection of games would be the PS2, followed by the Xbox 360, and then the ps3. And then there are minor differences after that.\n",
    "Something interesting to note is that Japan supposedly has 0 games available on PC which suggests that gaming on a computer is either non-existent or that not all games sales are accounted for; most likely the latter.\n",
    "\n",
    "These graphs also show that data relating to these consoles may vary from region to region, which is most prominently seen in japan, where the availability of games for consoles is more polarized between limited or plentiful\n",
    "\n",
    "we can also see that there are few games available on the DreamCast (DC), so I have written a function to remove entries that belong to a console with fewer than 80 games available worldwide (this should affect only the DC). see popular(df)"
   ]
  },
  {
   "cell_type": "code",
   "execution_count": null,
   "id": "efficient-attitude",
   "metadata": {},
   "outputs": [],
   "source": [
    "df = popular(df)"
   ]
  },
  {
   "cell_type": "markdown",
   "id": "catholic-letters",
   "metadata": {},
   "source": [
    "# **EDA**\n",
    "## Global Sales\n",
    "We are basically summing the global sales for every game available to a console, to give a rough estimate as to which games console is the most economically productive. This is very much partial to the number of games made for each console, which is affected by how long the console is available and at what point games are no longer released for the console. The critic's reception of previous games on the console can also create a bias towards the current games availabe and have a negative affect on the market; so we should try to see if there is some correlation between the critic score and global sales of a game. \n",
    "\n",
    "Again this is a just a culmination of the sales for each game on each console worldwide:"
   ]
  },
  {
   "cell_type": "code",
   "execution_count": null,
   "id": "thorough-accordance",
   "metadata": {},
   "outputs": [],
   "source": [
    "globalSales = {i : 0 for i in df.Platform.unique()} ##makes a dictionary with consoles, for the global sales of games on the console\n",
    "for i in list(df.Platform.unique()):\n",
    "    for j in df.index:\n",
    "        if (df['Platform'][j] == i):\n",
    "            globalSales[i] += df['Global_Sales'][j]\n",
    "\n",
    "            \n",
    "            \n",
    "vert = list(globalSales.values())\n",
    "plt.bar(x = list(range(0,len(df.Platform.unique()))), height = vert)\n",
    "plt.title('global sales over all time for each console')\n",
    "plt.xlabel('Console/Platform')\n",
    "plt.ylabel('Global Sales(Millions of Units)')\n",
    "plt.xticks(list(range(0,len(df.Platform.unique()))), list(df.Platform.unique()))\n",
    "\n",
    "\n",
    "plt.savefig('global sales over all time for each console.png', bbox_inches='tight')\n",
    "plt.show()"
   ]
  },
  {
   "cell_type": "markdown",
   "id": "particular-federal",
   "metadata": {},
   "source": [
    "## selection/variety"
   ]
  },
  {
   "cell_type": "code",
   "execution_count": null,
   "id": "technological-filter",
   "metadata": {},
   "outputs": [],
   "source": [
    "gamesAvailData = list(df['Platform'].value_counts()[df['Platform'].unique()])\n",
    "\n",
    "z = gamesAvailData\n",
    "y = list(globalSales.values())\n",
    "n = list(df.Platform.unique())\n",
    "\n",
    "fig, ax = plt.subplots()\n",
    "plt.scatter(z, y)\n",
    "plt.title('Global sales and games available')\n",
    "plt.xlabel('Unique Games available')\n",
    "plt.ylabel('global sales (Millions of Units)')\n",
    "\n",
    "for i, txt in enumerate(n):\n",
    "    ax.annotate(txt, (z[i], y[i]))\n",
    "    \n",
    "plt.savefig('global sales and games available.png', bbox_inches='tight')\n",
    "plt.show()"
   ]
  },
  {
   "cell_type": "markdown",
   "id": "extraordinary-jungle",
   "metadata": {},
   "source": [
    "There appears to be a correlation between the number of games available and the global sales, however I would say that the spread becomes larger as the number of games available increases, so this isn't very conclusive, lets try and normalize the data and see the expected global sales for a game on each console:"
   ]
  },
  {
   "cell_type": "code",
   "execution_count": null,
   "id": "exposed-sphere",
   "metadata": {},
   "outputs": [],
   "source": [
    "normGlobalSales = {i : 0 for i in df.Platform.unique()}  ##creating dictionary for normalized global sales, where we take the mean global sales for a particular platform\n",
    "for i in list(df.Platform.unique()):\n",
    "    normGlobalSales[i] = (globalSales[i]/(df.drop(df[df.Platform != i].index)['Name'].count()))\n",
    "\n",
    "\n",
    "\n",
    "vert = list(normGlobalSales.values())\n",
    "plt.bar(x = list(range(0,len(df.Platform.unique()))), height = vert)\n",
    "plt.title('mean global sales over all time for each console')\n",
    "plt.xlabel('Console/Platform')\n",
    "plt.ylabel('mean Global Sales(Millions of Units)')\n",
    "plt.xticks(list(range(0,len(df.Platform.unique()))), list(df.Platform.unique()))\n",
    "\n",
    "plt.savefig('mean global sales over all time for each console.png', bbox_inches='tight')\n",
    "plt.show()"
   ]
  },
  {
   "cell_type": "markdown",
   "id": "excess-berkeley",
   "metadata": {},
   "source": [
    "This data paints a very different picture of the success encountered in each platform, where it is no longer the PS2,PS3 and X360 far ahead of the rest of the platforms, but they are slightly more successful than most platforms; the PS and Wii seem to be evenly matched in terms of mean global sales, both far ahead of the competition.\n",
    "\n",
    "Given that the PS was more active earlier in the 1980-2016 time window, before the spike in videogame sales in the mid 2000's, there are two ways I think this can be perceived, either that the lack of competition allowed PS to flourish, and it was to be expected; or that they exceeded expectation for an industry which was still developing. Personally I beleive that the lack of competition allowed PS to capitalize on their innovative products, and kickstart the competition which started to boom in the mid 2000's "
   ]
  },
  {
   "cell_type": "code",
   "execution_count": null,
   "id": "thick-transition",
   "metadata": {},
   "outputs": [],
   "source": [
    "gamesAvailData = list(df['Platform'].value_counts()[df['Platform'].unique()])\n",
    "\n",
    "z = gamesAvailData\n",
    "y = list(normGlobalSales.values())\n",
    "n = list(df.Platform.unique())\n",
    "\n",
    "fig, ax = plt.subplots()\n",
    "plt.scatter(z, y)\n",
    "plt.title('Global sales and games available')\n",
    "plt.xlabel('Unique Games available')\n",
    "plt.ylabel('global sales (Millions of Units)')\n",
    "\n",
    "for i, txt in enumerate(n):\n",
    "    ax.annotate(txt, (z[i], y[i]))\n",
    "\n",
    "plt.savefig('mean global sales and games available.png', bbox_inches='tight')    \n",
    "plt.show()"
   ]
  },
  {
   "cell_type": "markdown",
   "id": "african-folder",
   "metadata": {},
   "source": [
    "## individual consoles\n",
    "as stated for the global sales, the above information is partial to many things, and as such not very useful when trying to look at relationships between particular variables. This problem can be overcome by normalizing our data with respect to whatever variables we are not testing or comparing. In order to do this we can make a dictionary with the unique platforms as keys and then extract information about each console as necessary to more accurately compare the relationships between certain variables."
   ]
  },
  {
   "cell_type": "code",
   "execution_count": null,
   "id": "sapphire-motor",
   "metadata": {},
   "outputs": [],
   "source": [
    "dfConsole = {i : df.drop(df[df.Platform != i].index ) for i in list(df.Platform.unique())}"
   ]
  },
  {
   "cell_type": "markdown",
   "id": "forward-modification",
   "metadata": {},
   "source": [
    "Now 'consoleStats' is a dictionary which contains the mean values of the columns for each console, so you can access the mean values of a column x for a console y as follows:\n",
    "\n",
    "consoleStats[y][x]\n",
    "\n",
    "and it should display a float:"
   ]
  },
  {
   "cell_type": "code",
   "execution_count": null,
   "id": "greater-stomach",
   "metadata": {},
   "outputs": [],
   "source": [
    "consoleStats = {i : {dfConsole[i].mean().keys()[j] : dfConsole[i].mean()[j] for j in range(len(dfConsole[i].mean()))} for i in dfConsole}\n",
    "print(consoleStats['PS3']['JP'])\n",
    "print(consoleStats['PS3']['Year_of_Release'])"
   ]
  },
  {
   "cell_type": "markdown",
   "id": "brutal-conditioning",
   "metadata": {},
   "source": [
    "The above number indicates that 53% of all listed PS3 games listed, had a least one purchase in Japan, and that the average year of release for a PS3 game was in 2010.\n",
    "\n"
   ]
  },
  {
   "cell_type": "markdown",
   "id": "champion-fluid",
   "metadata": {},
   "source": [
    "## market timing\n",
    "The time at which games are released, like many other forms of media, is very important to their success. The following graphs should give insight to how the different aspects of time affect the sales of videogames, using each console as a different sort of test."
   ]
  },
  {
   "cell_type": "markdown",
   "id": "monthly-heath",
   "metadata": {},
   "source": [
    "### average year of release\n",
    "lets start with the mean year of release for the games on each console"
   ]
  },
  {
   "cell_type": "code",
   "execution_count": null,
   "id": "committed-outline",
   "metadata": {},
   "outputs": [],
   "source": [
    "avgyear = {i : consoleStats[i]['Year_of_Release'] for i in list(df.Platform.unique())}\n",
    "\n",
    "vert = list(avgyear.values())\n",
    "plt.scatter(y = list(range(0,len(df.Platform.unique()))), x = vert)\n",
    "plt.gca().set_xlim([1995,2020])\n",
    "plt.title('expected year of release for consoles')\n",
    "plt.xlabel('year')\n",
    "plt.ylabel('Console/Platform')\n",
    "plt.yticks(list(range(0,len(df.Platform.unique()))), list(df.Platform.unique()))\n",
    "\n",
    "plt.savefig('expected year of release for consoles.png', bbox_inches='tight')\n",
    "plt.show()\n",
    "print(\"the above graph shows the expected release date for each platform\")\n",
    "print()\n",
    "print()\n",
    "#########\n",
    "\n",
    "z = list(avgyear.values())\n",
    "y = list(globalSales.values())\n",
    "n = list(df.Platform.unique())\n",
    "\n",
    "fig, ax = plt.subplots()\n",
    "plt.scatter(z, y)\n",
    "plt.title('expected year of release vs global sales')\n",
    "plt.xlabel('avg year of release')\n",
    "plt.ylabel('global sales (Millions of Units)')\n",
    "\n",
    "for i, txt in enumerate(n):\n",
    "    ax.annotate(txt, (z[i], y[i]))\n",
    "    \n",
    "plt.savefig('expected year of release vs global sales.png', bbox_inches='tight')"
   ]
  },
  {
   "cell_type": "markdown",
   "id": "crucial-estate",
   "metadata": {},
   "source": [
    "As we can see in the above scatter plot, there is a definite peak around 2010, so consoles that were releasing games on average in 2010 were doing better than consoles who released games on average earlier than 2010. excluding the PS2 outlier this indicates that there was an increased demand for videogames around the 2009 - 2011 time period (the mid 2000's boom). This was most likely caused by the great succes of the PS and subsequently the PS2.\n",
    "\n",
    "This is nice, but it would be good to obtain info about the range of years the consoles had active releases, which can be done with the box and whisker plot seen below:"
   ]
  },
  {
   "cell_type": "markdown",
   "id": "wound-pound",
   "metadata": {},
   "source": [
    "###  what time period were games being made?\n",
    "boxplot of the distrubtion of games over time"
   ]
  },
  {
   "cell_type": "code",
   "execution_count": null,
   "id": "absolute-income",
   "metadata": {},
   "outputs": [],
   "source": [
    "yeardata = list(dfConsole[i]['Year_of_Release'] for i in df.Platform.unique())\n",
    "plt.boxplot(yeardata, vert = False)\n",
    "plt.title('distribution of games for each console')\n",
    "plt.yticks(list(range(1,len(df.Platform.unique())+1)), list(df.Platform.unique()))\n",
    "\n",
    "plt.savefig('distribution of games for each console.png', bbox_inches='tight')\n",
    "plt.show()"
   ]
  },
  {
   "cell_type": "markdown",
   "id": "downtown-result",
   "metadata": {},
   "source": [
    "As can be seen the PS3, PS2, and XBOX 360 have had games released for a reasonably long time, so it is to be expected that the global sales are significantly larger than other consoles, whose life spans are significantly shorter. We can look directly at the life spans in the next box plot:\n"
   ]
  },
  {
   "cell_type": "code",
   "execution_count": null,
   "id": "czech-extent",
   "metadata": {},
   "outputs": [],
   "source": [
    "yrRangeData = {i : dfConsole[i]['Year_of_Release'].max() - dfConsole[i]['Year_of_Release'].min() for i in df.Platform.unique()}\n",
    "\n",
    "vert = list(yrRangeData.values())\n",
    "plt.bar(x = list(range(0,len(df.Platform.unique()))), height = vert)\n",
    "plt.title('lifespan of Console/Platform')\n",
    "plt.xlabel('Console/Platform')\n",
    "plt.ylabel('no. of years game produced')\n",
    "plt.xticks(list(range(0,len(df.Platform.unique()))), list(df.Platform.unique()))\n",
    "\n",
    "plt.savefig('lifespan of ConsolePlatform.png', bbox_inches='tight')\n",
    "plt.show()"
   ]
  },
  {
   "cell_type": "markdown",
   "id": "rational-anchor",
   "metadata": {},
   "source": [
    "## Global sales vs years active\n",
    "now we can compare this to the global sales for each console, and see if there is a correlation between years active and global sales:"
   ]
  },
  {
   "cell_type": "code",
   "execution_count": null,
   "id": "bronze-activity",
   "metadata": {},
   "outputs": [],
   "source": [
    "z = list(yrRangeData.values())\n",
    "y = list(globalSales.values())\n",
    "n = list(df.Platform.unique())\n",
    "\n",
    "fig, ax = plt.subplots()\n",
    "plt.scatter(z, y)\n",
    "plt.title('Global sales and years active for consoles')\n",
    "plt.xlabel('years active')\n",
    "plt.ylabel('global sales (Millions of Units)')\n",
    "\n",
    "for i, txt in enumerate(n):\n",
    "    ax.annotate(txt, (z[i], y[i]))\n",
    "\n",
    "plt.savefig('Global sales and years active for consoles.png', bbox_inches='tight')\n",
    "plt.show()\n",
    "# the pc games are obviously an outlier so lets remove them, and do it again:\n",
    "\n",
    "\n",
    "yrRangeData.pop('PC')\n",
    "globalSales.pop('PC')\n",
    "platforms = list(df.Platform.unique())\n",
    "platforms.remove('PC')\n",
    "\n",
    "z = list(yrRangeData.values())\n",
    "y = list(globalSales.values())\n",
    "n = list(platforms)\n",
    "\n",
    "fig, ax = plt.subplots()\n",
    "plt.scatter(z, y)\n",
    "plt.title('Global sales and years active for consoles, adjusted')\n",
    "plt.xlabel('years active')\n",
    "plt.ylabel('global sales (Millions of Units)')\n",
    "\n",
    "for i, txt in enumerate(n):\n",
    "    ax.annotate(txt, (z[i], y[i]))\n",
    "    \n",
    "plt.savefig('Global sales and years active for consoles, adjusted.png', bbox_inches='tight')\n",
    "plt.show()    \n",
    "print(\"the pc games are obviously an outlier so lets remove that point, and do it again:\")"
   ]
  },
  {
   "cell_type": "markdown",
   "id": "sixth-friday",
   "metadata": {},
   "source": [
    "Now if we have a look at the different consoles listed here, we can try and compare different consoles that have been active for the same number of years:\n",
    "\n",
    " - GC and Wii\n",
    " - DS and PS\n",
    " - PS4 and XOne\n",
    "\n",
    "the first pair, GC and Wii, have ~6 years where they had new games released, and they have approximately the same number of games released, however the expected release date are ~5 years apart, and the GC faced stiff competition from PS2 (which would have been favoured given the success of the PS in mean global sales).\n",
    "\n",
    "The second pair, DS and PS had expected release dates are ~9 years apart, which means inflation would've had a considerably larger effect upon price of goods particularly in 2007-08 where the [GFC] (https://www.treasury.gov/connect/blog/pages/the-financial-crisis-five-years-later.aspx) occurred.\n",
    "\n",
    "The third pair however, is almost perfect, the release dates of the PS4 and XOne are almost identical (15/11/2013, and 22/11/2013 only a week apart!), they have therefore been active for the same amount of time, and there is a larger selection of games available for PS4, however the mean sales are also larger, so the larger number of games is not the root cause of its greater global sales"
   ]
  },
  {
   "cell_type": "markdown",
   "id": "falling-royalty",
   "metadata": {},
   "source": [
    "## PS4 vs XOne\n",
    "below is a description of the data for the PS4 and XOne:"
   ]
  },
  {
   "cell_type": "code",
   "execution_count": null,
   "id": "equivalent-hampshire",
   "metadata": {},
   "outputs": [],
   "source": [
    "dfConsole['XOne'].describe()"
   ]
  },
  {
   "cell_type": "code",
   "execution_count": null,
   "id": "express-calgary",
   "metadata": {},
   "outputs": [],
   "source": [
    "dfConsole['PS4'].describe()"
   ]
  },
  {
   "cell_type": "markdown",
   "id": "prompt-horizontal",
   "metadata": {},
   "source": [
    "we can see that the mean sales in the US is the only region in the world where XOne mean sales are greater than PS4 mean sales:"
   ]
  },
  {
   "cell_type": "code",
   "execution_count": null,
   "id": "offshore-journal",
   "metadata": {},
   "outputs": [],
   "source": [
    "regions = ['EU_Sales', 'NA_Sales', 'JP_Sales', 'Other_Sales', 'Global_Sales']\n",
    "\n",
    "region = {}\n",
    "for i in regions:\n",
    "    region[i] = ({'PS4' : dfConsole['PS4'].describe()[i]['mean'], 'XOne' : dfConsole['XOne'].describe()[i]['mean'] })\n",
    "\n",
    "    \n",
    "valuelist = [0.264277, 0.467699, 0.475346, 0.352134, 0.01824, 0.038870, 0.072893, 0.158033, 0.814906, 1.016862]\n",
    "\n",
    "    \n",
    "\n",
    "vert = valuelist\n",
    "plt.bar(x = list(range(0,10)), height = vert, color = ['green', 'blue','green', 'blue','green', 'blue','green', 'blue','green', 'blue'])\n",
    "plt.title('mean sales in each region')\n",
    "plt.xlabel('Region')\n",
    "plt.ylabel('mean sales(Millions of Units)')\n",
    "plt.xticks(list(range(0,10)), ['EU', 'EU', 'NA', 'NA', 'JP', 'JP', 'Other', 'Other', 'Global', 'Global'])\n",
    "\n",
    "\n",
    "plt.savefig('mean sales in each region.png', bbox_inches='tight')\n",
    "plt.show()"
   ]
  },
  {
   "cell_type": "markdown",
   "id": "british-procurement",
   "metadata": {},
   "source": [
    "Despite the popularity in North America, XOne is beat by PS4 in all other regions particularly EU, which makes it seem like the company licensing games for the PS4 is offering more than XOne equivalent, indicated by the global Sales of PS4 exceeding XOne's by $200,000 .\n",
    "\n",
    "Microsoft produces XOne consoles and is based in North America, which leads to the assumption of brand loyalty and this idea of American Manufactoring and Nationalism tipping the scales in favor of XOne only in NA, whereas the rest of the world appears to choose the more successful brand of PS4.\n",
    "\n",
    "Another thing we could talk about which is not on the dataset we are analysing is the prevalence of exclusive games on PS4 and XOne. PS4 releases a significantly greater quantity of games exclusive to the PS4 than XOne does, which is another reason, perhaps why PS4 games on average have greater sales.\n",
    "\n",
    "We could also look at the critic and user score averages for the games, and we can see that the critic ratings are approximately the same:( */100)\n",
    "\n",
    "XOne: 73.729560\n",
    "PS4: 72.669456\n",
    "\n",
    "but the user scores: ( */10)\n",
    "\n",
    "XOne: 6.493082\n",
    "PS4: 6.739331\n",
    "\n",
    "lean slightly in favour of the PS4, by about 2.4\\% compared to the difference in critic scores: 1.1\\%\n",
    "It is difficult to draw conclusions from this, but I believe that the user scores are more to be trusted (insert citation for professional critics being bought out (hotels, cars, other products), or otherwise biased)\n",
    "This in combination with the larger number of games might explain the PS4 Global Sales being twice the XOne global sales.\n",
    "\n",
    "So when looking for success in selling games, make lots of them, and try to make them halfway decent."
   ]
  },
  {
   "cell_type": "markdown",
   "id": "annual-asian",
   "metadata": {},
   "source": [
    "## Conclusion\n",
    "It would appear that as expected there is a correlation between The years active and the global sales for a console, however there are two trend lines (unexpected) which correlate to the more popular consoles, and the less popular consoles. From my analysis it looks like this divide between more and less popular can be sorted by critic score, and then after that it is simply about how many games are released for the console."
   ]
  }
 ],
 "metadata": {
  "kernelspec": {
   "display_name": "Python 3",
   "language": "python",
   "name": "python3"
  },
  "language_info": {
   "codemirror_mode": {
    "name": "ipython",
    "version": 3
   },
   "file_extension": ".py",
   "mimetype": "text/x-python",
   "name": "python",
   "nbconvert_exporter": "python",
   "pygments_lexer": "ipython3",
   "version": "3.8.5"
  }
 },
 "nbformat": 4,
 "nbformat_minor": 5
}
