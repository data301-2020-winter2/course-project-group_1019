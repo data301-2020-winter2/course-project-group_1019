{
 "cells": [
  {
   "cell_type": "markdown",
   "id": "criminal-bulgarian",
   "metadata": {},
   "source": [
    "# Video game Sales - Analysis\n",
    "\n",
    "- You should remain focused on your research question(s) - it is very easy to get lost down rabbit holes in data analyses projects.\n",
    "\n",
    "- If you find that your research questions are not that interesting, or you find more interesting questions (especially after your EDA) you may revise them, or add more.\n",
    "\n",
    "- Use the lab times, as well as our office hours (TAs and instructors), to get help and guidance on your analyses.\n",
    "\n",
    "- You should experiment with “plenty of” data visualizations to try and visualize your dataset and answer your research questions.\n",
    "\n",
    "- Give us a narrative/story of your explorations as you go along, in-line with your data - use the new Markdown skills you learned in Task 1!"
   ]
  },
  {
   "cell_type": "code",
   "execution_count": null,
   "id": "formal-emergency",
   "metadata": {},
   "outputs": [],
   "source": [
    "import pandas as pd\n",
    "import seaborn as sns\n",
    "import matplotlib.pyplot as plt\n",
    "import numpy as np\n",
    "import pandas_profiling as pdp\n",
    "\n",
    "sns.set_style(\"ticks\")\n",
    "\n",
    "\n",
    "\n",
    "import sys\n",
    "sys.path.insert(1, '../../scripts')\n",
    "\n",
    "# Imports the project_functions.py file containing the different functions\n",
    "import project_functions"
   ]
  },
  {
   "cell_type": "markdown",
   "id": "traditional-remove",
   "metadata": {},
   "source": [
    "## Intro\n",
    "This dataset covers ......\n",
    "(insert research questions)"
   ]
  },
  {
   "cell_type": "markdown",
   "id": "finnish-crossing",
   "metadata": {},
   "source": [
    "## Platform\n",
    "Platform can act as an isolated environment for videogames, where we can see how they succeed based on certain conditions which vary for each platform."
   ]
  },
  {
   "cell_type": "markdown",
   "id": "posted-resistance",
   "metadata": {},
   "source": [
    "## Ratings, Sales, Genres\n",
    "\n"
   ]
  },
  {
   "cell_type": "markdown",
   "id": "honey-capital",
   "metadata": {},
   "source": [
    "## more stuff\n"
   ]
  },
  {
   "cell_type": "markdown",
   "id": "rocky-traveler",
   "metadata": {},
   "source": [
    "## Take-Aways/conc.\n"
   ]
  }
 ],
 "metadata": {
  "kernelspec": {
   "display_name": "Python 3",
   "language": "python",
   "name": "python3"
  },
  "language_info": {
   "codemirror_mode": {
    "name": "ipython",
    "version": 3
   },
   "file_extension": ".py",
   "mimetype": "text/x-python",
   "name": "python",
   "nbconvert_exporter": "python",
   "pygments_lexer": "ipython3",
   "version": "3.8.5"
  }
 },
 "nbformat": 4,
 "nbformat_minor": 5
}
