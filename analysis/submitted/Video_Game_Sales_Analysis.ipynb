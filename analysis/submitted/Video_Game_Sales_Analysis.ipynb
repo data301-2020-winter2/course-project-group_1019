{
 "cells": [
  {
   "cell_type": "markdown",
   "id": "missing-smart",
   "metadata": {},
   "source": [
    "# Video game Sales - Analysis\n",
    "\n",
    "- You should remain focused on your research question(s) - it is very easy to get lost down rabbit holes in data analyses projects.\n",
    "\n",
    "- If you find that your research questions are not that interesting, or you find more interesting questions (especially after your EDA) you may revise them, or add more.\n",
    "\n",
    "- Use the lab times, as well as our office hours (TAs and instructors), to get help and guidance on your analyses.\n",
    "\n",
    "- You should experiment with “plenty of” data visualizations to try and visualize your dataset and answer your research questions.\n",
    "\n",
    "- Give us a narrative/story of your explorations as you go along, in-line with your data - use the new Markdown skills you learned in Task 1!"
   ]
  },
  {
   "cell_type": "code",
   "execution_count": 7,
   "id": "boxed-aquatic",
   "metadata": {},
   "outputs": [
    {
     "ename": "ModuleNotFoundError",
     "evalue": "No module named 'project_functions'",
     "output_type": "error",
     "traceback": [
      "\u001b[1;31m---------------------------------------------------------------------------\u001b[0m",
      "\u001b[1;31mModuleNotFoundError\u001b[0m                       Traceback (most recent call last)",
      "\u001b[1;32m<ipython-input-7-920068215398>\u001b[0m in \u001b[0;36m<module>\u001b[1;34m\u001b[0m\n\u001b[0;32m     13\u001b[0m \u001b[1;33m\u001b[0m\u001b[0m\n\u001b[0;32m     14\u001b[0m \u001b[1;31m# Imports the project_functions.py file containing the different functions\u001b[0m\u001b[1;33m\u001b[0m\u001b[1;33m\u001b[0m\u001b[1;33m\u001b[0m\u001b[0m\n\u001b[1;32m---> 15\u001b[1;33m \u001b[1;32mimport\u001b[0m \u001b[0mproject_functions\u001b[0m\u001b[1;33m.\u001b[0m\u001b[0mpy\u001b[0m\u001b[1;33m\u001b[0m\u001b[1;33m\u001b[0m\u001b[0m\n\u001b[0m",
      "\u001b[1;31mModuleNotFoundError\u001b[0m: No module named 'project_functions'"
     ]
    }
   ],
   "source": [
    "import pandas as pd\n",
    "import seaborn as sns\n",
    "import matplotlib.pyplot as plt\n",
    "import numpy as np\n",
    "import pandas_profiling as pdp\n",
    "\n",
    "sns.set_style(\"ticks\")\n",
    "\n",
    "\n",
    "\n",
    "import sys\n",
    "sys.path.insert(1, '../../scripts')\n",
    "\n",
    "# Imports the project_functions.py file containing the different functions\n",
    "import project_functions"
   ]
  },
  {
   "cell_type": "markdown",
   "id": "living-excess",
   "metadata": {},
   "source": [
    "## Intro\n",
    "This analysis looks at the different aspects of videogames over the past ~40 years using a random sampls of videogames, representative of the entire industry, to relate real life qualitative events to measurable changes in the sales and consumption of videogames.\n",
    "\n",
    "The data used in this analysis was obtained from [kaggle](\"https://www.kaggle.com/rush4ratio/video-game-sales-with-ratings\"), and is a user compiled data set which extends a scrape already performed by Metacritic, *\"a website that aggregates reviews of films, TV shows, music albums, video games and formerly, books\"* [Wikipedia] (https://en.wikipedia.org/wiki/Metacritic). It includes over 16,000 entries, of which 6,825 entries have all descriptors complete.\n",
    "\n",
    "Each entry in this dataset is a videogame, and various pieces of information relating to it. As the extracted information will show, this dataset does not contain all videogames from 1980-2016, and although it contains many entries, it does not contain all videogames from 1980-2016, and so in this analysis it is considered a sample of that set of all videogames.\n",
    "\n",
    "We are going to start by cleaning the data:\n",
    "  - removing all rows with na entries\n",
    "  - removing user scores with TBD\n",
    "  - casting all entries in the table to their proper datatypes (they are all saved as strings), i.e. integers, floats, categories\n",
    "below is the head of our cleaned data:"
   ]
  },
  {
   "cell_type": "code",
   "execution_count": 4,
   "id": "classical-secret",
   "metadata": {},
   "outputs": [
    {
     "ename": "NameError",
     "evalue": "name 'project_functions' is not defined",
     "output_type": "error",
     "traceback": [
      "\u001b[1;31m---------------------------------------------------------------------------\u001b[0m",
      "\u001b[1;31mNameError\u001b[0m                                 Traceback (most recent call last)",
      "\u001b[1;32m<ipython-input-4-d2e41dd22e37>\u001b[0m in \u001b[0;36m<module>\u001b[1;34m\u001b[0m\n\u001b[1;32m----> 1\u001b[1;33m \u001b[0mCleaned_DataFrame\u001b[0m \u001b[1;33m=\u001b[0m \u001b[0mproject_functions\u001b[0m\u001b[1;33m.\u001b[0m\u001b[0mload_and_process\u001b[0m\u001b[1;33m(\u001b[0m\u001b[1;33m)\u001b[0m\u001b[1;33m\u001b[0m\u001b[1;33m\u001b[0m\u001b[0m\n\u001b[0m\u001b[0;32m      2\u001b[0m \u001b[0mCleaned_DataFrame\u001b[0m\u001b[1;33m.\u001b[0m\u001b[0mhead\u001b[0m\u001b[1;33m(\u001b[0m\u001b[1;33m)\u001b[0m\u001b[1;33m\u001b[0m\u001b[1;33m\u001b[0m\u001b[0m\n",
      "\u001b[1;31mNameError\u001b[0m: name 'project_functions' is not defined"
     ]
    }
   ],
   "source": [
    "Cleaned_DataFrame = project_functions.load_and_process()\n",
    "Cleaned_DataFrame.head()"
   ]
  },
  {
   "cell_type": "markdown",
   "id": "violent-survey",
   "metadata": {},
   "source": [
    "## Platform\n",
    "Platform can act as an isolated instance of videogame markets, where we can see how they succeed based on certain conditions which vary for each platform. Of course the competition between each of these platforms must be considered, but generally we can examine these Platforms and their characteristic to see how well the videogames are selling for each of them.\n",
    "\n",
    "The things we first need to consider is that there will be variance in the popularity of Platforms across different regions in the world, and this can be the result of many different things, alot of which cannot be quantified; the culture and history of a region cannot be boiled down to numbers and data.\n",
    "\n",
    "The question we are looking at is can we measure how successful a videogame will be based on evidence retreived by looking at different consoles\n",
    "//\n",
    "insert stuff here\n",
    "//"
   ]
  },
  {
   "cell_type": "markdown",
   "id": "interstate-thirty",
   "metadata": {},
   "source": [
    "## Ratings, Sales, Genres\n",
    "\n"
   ]
  },
  {
   "cell_type": "markdown",
   "id": "brief-kidney",
   "metadata": {},
   "source": [
    "## more stuff\n"
   ]
  },
  {
   "cell_type": "markdown",
   "id": "otherwise-calgary",
   "metadata": {},
   "source": [
    "## Take-Aways/conc.\n"
   ]
  }
 ],
 "metadata": {
  "kernelspec": {
   "display_name": "Python 3",
   "language": "python",
   "name": "python3"
  },
  "language_info": {
   "codemirror_mode": {
    "name": "ipython",
    "version": 3
   },
   "file_extension": ".py",
   "mimetype": "text/x-python",
   "name": "python",
   "nbconvert_exporter": "python",
   "pygments_lexer": "ipython3",
   "version": "3.8.5"
  }
 },
 "nbformat": 4,
 "nbformat_minor": 5
}
