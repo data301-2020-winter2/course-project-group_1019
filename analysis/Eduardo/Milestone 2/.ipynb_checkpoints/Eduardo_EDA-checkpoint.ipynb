{
 "cells": [
  {
   "cell_type": "markdown",
   "metadata": {},
   "source": [
    "# Milestone 2: Exploratory Data Analysis\n",
    "#### Eduardo Sequeira\n",
    "---\n",
    "\n",
    "For this milestone, **exploratory data analysis (EDA)** will be conducted on the selected dataset for the project."
   ]
  },
  {
   "cell_type": "markdown",
   "metadata": {},
   "source": [
    "## 1. Introduction\n",
    "\n",
    "For this EDA, there are two main questions that we seek to answer:\n",
    "1. Which videogame *genre* tends to *sell better / more*?\n",
    "2. What is the *correlation* between *game ratings, sales, and genre*?\n",
    "3. When did ratings begin for videogames?\n",
    "\n",
    "The first question is a basic, direct, comparison. The second question is more towards divining the relationships between the three critiera mentioned. The third question, for curiosity, is based around when were the first ratings applied to videogames, or start becoming something expected?\n",
    "\n",
    "Before carrying out the EDA, we need to first clean the dataset. But before cleaning the dataset, we must first understand it and identify what data we need to answer the above questions."
   ]
  },
  {
   "cell_type": "markdown",
   "metadata": {},
   "source": [
    "## 2. Manipulating and Cleaning the Data\n",
    "\n",
    "To begin reviewing the data, we must first load in the required libraries for the EDA and the raw dataset. Once this is done, we can start analyzing the data and then perform the analysis. "
   ]
  },
  {
   "cell_type": "code",
   "execution_count": 3,
   "metadata": {},
   "outputs": [
    {
     "ename": "ModuleNotFoundError",
     "evalue": "No module named 'project_functions'",
     "output_type": "error",
     "traceback": [
      "\u001b[1;31m---------------------------------------------------------------------------\u001b[0m",
      "\u001b[1;31mModuleNotFoundError\u001b[0m                       Traceback (most recent call last)",
      "\u001b[1;32m<ipython-input-3-55d2dfee985e>\u001b[0m in \u001b[0;36m<module>\u001b[1;34m\u001b[0m\n\u001b[0;32m      8\u001b[0m \u001b[1;33m\u001b[0m\u001b[0m\n\u001b[0;32m      9\u001b[0m \u001b[1;31m# Imports the project_functions.py file containing the different functions\u001b[0m\u001b[1;33m\u001b[0m\u001b[1;33m\u001b[0m\u001b[1;33m\u001b[0m\u001b[0m\n\u001b[1;32m---> 10\u001b[1;33m \u001b[1;32mimport\u001b[0m \u001b[0mproject_functions\u001b[0m\u001b[1;33m\u001b[0m\u001b[1;33m\u001b[0m\u001b[0m\n\u001b[0m\u001b[0;32m     11\u001b[0m \u001b[1;33m\u001b[0m\u001b[0m\n\u001b[0;32m     12\u001b[0m \u001b[1;31m# Save the project_functions loadCleanFile function as being the rawdataedit (has been cleaned already now)\u001b[0m\u001b[1;33m\u001b[0m\u001b[1;33m\u001b[0m\u001b[1;33m\u001b[0m\u001b[0m\n",
      "\u001b[1;31mModuleNotFoundError\u001b[0m: No module named 'project_functions'"
     ]
    }
   ],
   "source": [
    "# Loading the required libraries\n",
    "import pandas as pd\n",
    "import numpy as np\n",
    "import matplotlib.pylab as plt\n",
    "\n",
    "import sys\n",
    "sys.path.insert(1, '../../../..')\n",
    "\n",
    "# Imports the project_functions.py file containing the different functions\n",
    "import project_functions\n",
    "\n",
    "# Save the project_functions loadCleanFile function as being the rawdataedit (has been cleaned already now)\n",
    "rawdataedit = project_functions.load_and_process()"
   ]
  },
  {
   "cell_type": "markdown",
   "metadata": {},
   "source": [
    "### Column Analysis\n",
    "\n",
    "Now that we have the edited set of the raw data that has been previously cleaned, we want to read into it and check what are the columns we have."
   ]
  },
  {
   "cell_type": "code",
   "execution_count": null,
   "metadata": {},
   "outputs": [],
   "source": [
    "# Read the column names that we have\n",
    "print(rawdataedit.columns.values)\n"
   ]
  },
  {
   "cell_type": "markdown",
   "metadata": {},
   "source": [
    "From the column name list above, to answer our questions, we really only need to have three columns: the **Genre**, **Global_Sales**, and **Rating** columns. With these three columns, we will be able to answer which videogame genres sell better, and find if there are any correlations between the ratings, sales and the genres. For curiosity and to address the third question, we will also need the **Year_of_Release** column. We will also keep the **Name** column as well, for our own interest to see what are some of the videogame names we will be working with.\n",
    "\n",
    "\n",
    "###  Column Selection\n",
    "\n",
    "Let's begin by selecting only the columns that are of interest to us to answer our questions: **Year_of_Release**, **Genre**, **Global_Sales**, and **Rating**. We will also keep the column **Name** just for interest, for summarizing later to give an example of some games that exist in each category."
   ]
  },
  {
   "cell_type": "code",
   "execution_count": null,
   "metadata": {},
   "outputs": [],
   "source": [
    "# Select only the Name, Year_of_Release, Genre, Global_Sales, and Rating columns\n",
    "\n",
    "# Filters the five columns that we are interested in and saves them over the dataset\n",
    "dataclean = rawdataedit.filter(['Name','Year_of_Release','Genre','Global_Sales','Rating'])\n",
    "\n",
    "display(dataclean.head())\n",
    "\n",
    "print(dataclean.info())"
   ]
  },
  {
   "cell_type": "markdown",
   "metadata": {},
   "source": [
    "### Data Analysis\n",
    "\n",
    "From the above, we see that we have now we have a total of five columns that we are interested in, and that all five columns have the same number of rows, 6825, which is perfect and what we want. We also know now that each of these rows are \"complete\" meaning that there are no NaNs in our dataset.\n",
    "\n",
    "Now that we only have the five columns of interest, we can proceed to the next task that will be to begin the EDA."
   ]
  },
  {
   "cell_type": "markdown",
   "metadata": {},
   "source": [
    "### Rating Column\n",
    "\n",
    "By looking at the Rating column, we can see that these are ESRB Ratings. In 1994 the K-A rating, which was for Kids-Adults, was changed to E rating for Everyone. To keep things consistent with the representation (since there are a handful of K-A ratings later on), we will change the K-A to E here. "
   ]
  },
  {
   "cell_type": "code",
   "execution_count": null,
   "metadata": {},
   "outputs": [],
   "source": [
    "# Takes the indicies of the dataclean dataframe\n",
    "index = dataclean.index\n",
    "changes = 0\n",
    "\n",
    "for rownumber in dataclean.index:\n",
    "    if dataclean.Rating[rownumber] == 'K-A':\n",
    "        dataclean.Rating[rownumber] = 'E'\n",
    "        changes += 1\n",
    "    \n",
    "print('Number of changes made:', changes)"
   ]
  },
  {
   "cell_type": "markdown",
   "metadata": {},
   "source": []
  },
  {
   "cell_type": "markdown",
   "metadata": {},
   "source": [
    "### Setting the Data Types\n",
    "\n",
    "As of now, the columns **Name**, **Genre** and **Rating** are set as object, and we should change **Genre** and **Rating** to be categories. We will want to do this because we know that the entries in these columns will be from a known set of variables. **Name** should be converted into a string because it is the name of the videogame in question. For the **Global_Sales**, we will want to keep this as it, because float64 will give us a numerical value with a decimal point for more precision. For **Year_of_Release**, we will convert this to an int64 datatype because we know that the year is simply the year, not needing decimal places for this. "
   ]
  },
  {
   "cell_type": "markdown",
   "metadata": {},
   "source": [
    "# Set columns Genre and Rating to be categories and check the info again\n",
    "dataclean['Name'] = dataclean['Name'].astype(\"string\")\n",
    "dataclean['Year_of_Release'] = dataclean['Year_of_Release'].astype('int64')\n",
    "dataclean['Genre'] = dataclean['Genre'].astype('category')\n",
    "dataclean['Rating'] = dataclean['Rating'].astype('category')\n",
    "\n",
    "# Check if the Dtype for columns Genre and Rating are now changed to be category, and Year_of_Release is str\n",
    "display(dataclean.head())\n",
    "print(\"\\n\")\n",
    "display(dataclean.info())\n"
   ]
  },
  {
   "cell_type": "markdown",
   "metadata": {},
   "source": [
    "From the above, we have now set up the dataset data types the way we want them.  \n",
    "**Name** is now a string.  \n",
    "**Year_of_Release** is now an integer.  \n",
    "**Genre** and **Rating** are now both categories.  \n",
    "**Global_Sales** is now a float."
   ]
  },
  {
   "cell_type": "markdown",
   "metadata": {},
   "source": [
    "## 3. Exploratory Data Analysis\n",
    "\n",
    "With everything now set up the way we need, and the data set is cleaned, we can proceed and begin with doing the EDA."
   ]
  },
  {
   "cell_type": "markdown",
   "metadata": {},
   "source": [
    "#### Unique Values Per Column\n",
    "\n",
    "The first thing we are interested in knowing is the unique values that we have per column for the **Genre** and **Rating**.  \n",
    "This will allow us to figure out how many genres of videogames are considered in this dataset, as well as the number of ratings that there are for he videogames."
   ]
  },
  {
   "cell_type": "code",
   "execution_count": null,
   "metadata": {},
   "outputs": [],
   "source": [
    "# Unique values in Genre and Rating columns\n",
    "\n",
    "# Unique genres\n",
    "Videogame_Genres = list(dataclean.Genre.unique())\n",
    "\n",
    "# Unique ratings\n",
    "Videogame_Ratings = list(dataclean.Rating.unique())\n",
    "\n",
    "print('The following are the unique genres considered in the dataset:', '\\n', Videogame_Genres, '\\n')\n",
    "\n",
    "print('The following are the unique ratings considered in the dataset:', '\\n', Videogame_Ratings)"
   ]
  },
  {
   "cell_type": "markdown",
   "metadata": {},
   "source": [
    "Listing out the different unique genres present in the dataset, we see a total of 12 kinds of genre considered.\n",
    "\n",
    "In listing out the ratings, we see ratings like E, M, T, RP, etc. which indicates that these are Entertainment Software Rating Board (ESRB) Ratings. "
   ]
  },
  {
   "cell_type": "markdown",
   "metadata": {},
   "source": [
    "### Videogame Sales Based on Genre\n",
    "\n",
    "The first question we want to address is to see which videogame genres sell the best! This can be done by looking into the column with the videogame **Genre** in the clean dataset and then look into the **Global_Sales** column. The idea to answer this question is to find the unique genres in the **Genre** column and then have a running sum for the values  for that row in the **Global_Sales** column."
   ]
  },
  {
   "cell_type": "code",
   "execution_count": null,
   "metadata": {},
   "outputs": [],
   "source": [
    "# Begin setting up a dictionary for the genre_sales\n",
    "\n",
    "# Creates the genre_sales dictionary\n",
    "genre_sales = {    \n",
    "}\n",
    "\n",
    "\n",
    "# For each entry in the unique genres list (Videogame_Genres), \n",
    "# we want to make a new dictonary word and set it equal to 0 entries\n",
    "for word in Videogame_Genres:\n",
    "    genre_sales[word] = 0\n",
    "\n",
    "# We want to move through the rows in the indicies here...\n",
    "for rownumber in dataclean.index:\n",
    "    # and store the respecitive values for that row from the genre column and sales column...\n",
    "    genretype = dataclean.Genre[rownumber]\n",
    "    gamesales = dataclean.Global_Sales[rownumber]\n",
    "    # now check for the item in Videogame_Genres...\n",
    "    for uniquegenre in Videogame_Genres:\n",
    "        # if they are both equal\n",
    "        if uniquegenre == genretype:\n",
    "            # then add the value in the game sales column to that genre word stored in the dictionary!\n",
    "            genre_sales[uniquegenre] += gamesales\n",
    "\n",
    "# Format the values attached to the dictionary keys so that they have two decimal points (like in the original dataset)\n",
    "for key in genre_sales:\n",
    "    genre_sales[key] = round(genre_sales[key], 2)\n",
    "    \n",
    "print(genre_sales)"
   ]
  },
  {
   "cell_type": "markdown",
   "metadata": {},
   "source": [
    "#### Genre_Sales Dictionary\n",
    "\n",
    "Above, we created a genre_sales dictionary that holds every unique genre present in the dataset, and has the respecitive summation of all the sales made for that specific genre! From this, we can proceed to making a bar chart based on what is stored in this dictionary."
   ]
  },
  {
   "cell_type": "markdown",
   "metadata": {},
   "source": [
    "#### Genres VS Sales Bar Chart\n",
    "\n",
    "Here, we will be creating our Genres and Sales Bar Chart."
   ]
  },
  {
   "cell_type": "code",
   "execution_count": null,
   "metadata": {},
   "outputs": [],
   "source": [
    "# Genres vs sales bar chart\n",
    "\n",
    "indicies = list(range(len(Videogame_Genres)))\n",
    "barpositions = list(range(len(Videogame_Genres)))\n",
    "y = list(genre_sales.values())\n",
    "labels = list(genre_sales.keys())\n",
    "\n",
    "# Setting up the plot here\n",
    "\n",
    "# Plot the x and y at a bar thickness of 0.9\n",
    "plt.bar(barpositions, y, 0.9, color='pink')\n",
    "axes = plt.gca()\n",
    "axes.set_ylim([0,2000])\n",
    "plt.title('Videogame Sales By Genre')\n",
    "plt.xlabel('Videogame Genres')\n",
    "plt.ylabel('Sales (Millions of $)')\n",
    "plt.xticks(barpositions, labels, rotation='vertical')\n",
    "for index in range(len(y)): \n",
    "    plt.text(barpositions[index], y[index], '  ' + str(y[index]), rotation='vertical')\n",
    "\n",
    "\n",
    "# Show the plot\n",
    "plt.show()"
   ]
  },
  {
   "cell_type": "markdown",
   "metadata": {},
   "source": [
    "From the above bar chart, we see that the *most popular game genre* is **Action**, followed by **Sports** and **Shooter** close behind. \\\n",
    "For the top three genres, we want to quickly take a look at some of the top sellers in each genre and check if there are any game series or titles that are easily recognizable. "
   ]
  },
  {
   "cell_type": "code",
   "execution_count": null,
   "metadata": {
    "scrolled": true
   },
   "outputs": [],
   "source": [
    "# What are the action, sports, and shooter games?\n",
    "\n",
    "print(\"Action Games:\")\n",
    "display(dataclean.loc[dataclean['Genre'] == 'Action'])\n",
    "\n",
    "print(\"Sports Games:\")\n",
    "display(dataclean.loc[dataclean['Genre'] == 'Sports'])\n",
    "\n",
    "print(\"Shooter Games:\")\n",
    "display(dataclean.loc[dataclean['Genre'] == 'Shooter'])\n"
   ]
  },
  {
   "cell_type": "markdown",
   "metadata": {},
   "source": [
    "**Action Games**: \\\n",
    "Here we see that we have a total of 2146 rows, meaning that there are 2146 games that are classed as being Action games. The first five games printed are all Grand Theft Auto (GTA) games, which are arguably (and evidently from the sales per game) one of the more popular videgame series that exist. Knowing the kind of action game this is, we then know that some other games in this list would include the Metal Gear games, Assassin's Creed games, Uncharted games, etc. \\\n",
    "**Sports Games**: \\\n",
    "We see that there is a total of 1478 games that are classed as being Sport games. Sport games are fairly self explanatory, and include games like FIFA games, Wii Sports, etc. \\\n",
    "**Shooter Games**: \\\n",
    "Here we have a total of 996 games that are classed as being Shooter games. These games tend to be first person shooters, like the well known Call of Duty game series, and more games similar to that."
   ]
  },
  {
   "cell_type": "markdown",
   "metadata": {},
   "source": [
    "### Normalized Bar Chart for Genre and Sales\n",
    "\n",
    "From the first bar chart above, we see that **Action**, **Sports**, and **Shooter** games have the most sales done, with roughtly $1.3 billion, $980 million, and $845 million dollars in sales respectively. However, upon looking into the data, the difference in the number of games that exist between **Action** and **Sports** is over 650 games. This leads us to wonder if these three categories only sold so many games due to the sheer amount of games that are in these categories.  \\\n",
    "Therefore, if we normalize the bar chart, so that instead of the bars displayed showing bias to the categories with more games, we can show how much a game of that genre will make *on average*! Like this, we can more accurately see which game genre tends to make the most sales per game."
   ]
  },
  {
   "cell_type": "code",
   "execution_count": null,
   "metadata": {},
   "outputs": [],
   "source": [
    "# Create a new normalized dictionary to hold normalized_genre_sales\n",
    "normalized_genre_sales = {    \n",
    "}\n",
    "\n",
    "# Here we can use the previous existing dictionary which already has the genre and the sales in total for that genre,\n",
    "# and then we are going to divide that value in the dictionary by the length of the list taken from the Genre column\n",
    "# which has the specific word (genre name) we are currently on\n",
    "for word in Videogame_Genres:\n",
    "    normalized_genre_sales[word] = round(genre_sales[word]/len(dataclean.loc[dataclean['Genre'] == word]), 2)\n",
    "    \n",
    "print(normalized_genre_sales)\n"
   ]
  },
  {
   "cell_type": "markdown",
   "metadata": {},
   "source": [
    "#### Normalized Genres vs Sales Bar Chart\n",
    "\n",
    "With the new normalized dictionary that was made above, we can use this to print out a new normalized bar chart which will show us what a game of each genre will make on average. This imformation should now be more useful to us and have less fluctuation."
   ]
  },
  {
   "cell_type": "code",
   "execution_count": null,
   "metadata": {},
   "outputs": [],
   "source": [
    "# Normalized genres vs sales bar chart\n",
    "\n",
    "indicies = list(range(len(Videogame_Genres)))\n",
    "barpositions = list(range(len(Videogame_Genres)))\n",
    "y = list(normalized_genre_sales.values())\n",
    "labels = list(normalized_genre_sales.keys())\n",
    "\n",
    "# Setting up the plot here\n",
    "\n",
    "# Plot the x and y at a bar thickness of 0.9\n",
    "plt.bar(barpositions, y, 0.9, color='pink')\n",
    "axes = plt.gca()\n",
    "axes.set_ylim([0,1.5])\n",
    "plt.title('Videogame Sales Per Genre (Normalized)')\n",
    "plt.xlabel('Videogame Genres')\n",
    "plt.ylabel('Sales (Millions of $)')\n",
    "plt.xticks(barpositions, labels, rotation='vertical')\n",
    "for index in range(len(y)): \n",
    "    plt.text(barpositions[index], y[index], '  ' + str(y[index]), rotation='vertical')\n",
    "\n",
    "\n",
    "# Show the plot\n",
    "plt.show()"
   ]
  },
  {
   "cell_type": "markdown",
   "metadata": {},
   "source": [
    "From the above, we see the majority of the game genres sell between $600-$750 thousand with the high being for the **Shooter** genre, which on average makes $850 thousand per game. Now the game genres that seem to sell the best on average are those which are **Shooters**, **Platformers**, and **Role-Playing** games."
   ]
  },
  {
   "cell_type": "markdown",
   "metadata": {},
   "source": [
    "### Videogame Sales Based on Rating\n",
    "\n",
    "The second question we want to address is to see which videogame genres sell the best! This can be done by looking into the column with the videogame **Genre** in the clean dataset and then look into the **Global_Sales** column. The idea to answer this question is to find the unique genres in the **Genre** column and then have a running sum for the values  for that row in the **Global_Sales** column.\n",
    "\n",
    "In the same way..."
   ]
  },
  {
   "cell_type": "code",
   "execution_count": null,
   "metadata": {},
   "outputs": [],
   "source": [
    "# Begin setting up a dictionary for the rating_sales\n",
    "\n",
    "# Creates the rating_sales dictionary\n",
    "rating_sales = {    \n",
    "}\n",
    "\n",
    "# Takes the indicies of the dataclean dataframe\n",
    "index = dataclean.index\n",
    "\n",
    "# For each entry in the unique genres list (Videogame_Ratings), \n",
    "# we want to make a new dictonary word and set it equal to 0 entries\n",
    "for word in Videogame_Ratings:\n",
    "    rating_sales[word] = 0\n",
    "\n",
    "# We want to move through the rows in the indicies here...\n",
    "for rownumber in dataclean.index:\n",
    "    # and store the respecitive values for that row from the rating column and sales column...\n",
    "    ratingtype = dataclean.Rating[rownumber]\n",
    "    gamesales = dataclean.Global_Sales[rownumber]\n",
    "    # now check for the item in Videogame_Ratings...\n",
    "    for uniquerating in Videogame_Ratings:\n",
    "        # if they are both equal\n",
    "        if uniquerating == ratingtype:\n",
    "            # then add the value in the game sales column to that rating letter stored in the dictionary!\n",
    "            rating_sales[uniquerating] += gamesales\n",
    "\n",
    "# Format the values attached to the dictionary keys so that they have two decimal points (like in the original dataset)\n",
    "for key in rating_sales:\n",
    "    rating_sales[key] = round(rating_sales[key], 2)\n",
    "    \n",
    "print(rating_sales)"
   ]
  },
  {
   "cell_type": "markdown",
   "metadata": {},
   "source": [
    "#### Rating_Sales Dictionary\n",
    "\n",
    "Above, we created a rating_sales dictionary that holds every unique genre present in the dataset, and has the respecitive summation of all the sales made for that specific rating! \\\n",
    "From this, we can proceed to making a bar chart based on what is stored in this dictionary."
   ]
  },
  {
   "cell_type": "markdown",
   "metadata": {},
   "source": []
  },
  {
   "cell_type": "code",
   "execution_count": null,
   "metadata": {},
   "outputs": [],
   "source": [
    "# CAN IMPROVE THIS!\n",
    "\n",
    "# Ratings vs sales bar chart\n",
    "\n",
    "indicies = list(range(len(Videogame_Genres)))\n",
    "barpositions = list(range(len(Videogame_Ratings)))\n",
    "y = list(rating_sales.values())\n",
    "labels = list(rating_sales.keys())\n",
    "\n",
    "# Setting up the plot here\n",
    "\n",
    "# Plot the x and y at a bar thickness of 0.9\n",
    "plt.bar(barpositions, y, 0.9, color='pink')\n",
    "axes = plt.gca()\n",
    "axes.set_ylim([0,3000])\n",
    "plt.title('Videogame Sales by Game Rating')\n",
    "plt.xlabel('Videogame Genres')\n",
    "plt.ylabel('Sales (Millions of $)')\n",
    "plt.xticks(barpositions, labels, rotation='vertical')\n",
    "for index in range(len(y)): \n",
    "    plt.text(barpositions[index], y[index], '  ' + str(y[index]), rotation='vertical')\n",
    "\n",
    "\n",
    "# Show the plot\n",
    "plt.show()"
   ]
  },
  {
   "cell_type": "markdown",
   "metadata": {},
   "source": [
    "discussion!"
   ]
  },
  {
   "cell_type": "markdown",
   "metadata": {},
   "source": [
    "Normalize the Sales by Rating "
   ]
  },
  {
   "cell_type": "code",
   "execution_count": null,
   "metadata": {},
   "outputs": [],
   "source": [
    "# Create a new normalized dictionary to hold normalized_genre_sales\n",
    "normalized_rating_sales = {    \n",
    "}\n",
    "\n",
    "for word in Videogame_Ratings:\n",
    "    normalized_rating_sales[word] = round(rating_sales[word]/len(dataclean.loc[dataclean['Rating'] == word]), 2)\n",
    "    \n",
    "print(normalized_rating_sales)"
   ]
  },
  {
   "cell_type": "code",
   "execution_count": null,
   "metadata": {},
   "outputs": [],
   "source": [
    "# Genres vs sales bar chart\n",
    "\n",
    "indicies = list(range(len(Videogame_Ratings)))\n",
    "barpositions = list(range(len(Videogame_Ratings)))\n",
    "y = list(normalized_rating_sales.values())\n",
    "labels = list(normalized_rating_sales.keys())\n",
    "\n",
    "# Setting up the plot here\n",
    "\n",
    "# Plot the x and y at a bar thickness of 0.9\n",
    "plt.bar(barpositions, y, 0.9, color='pink')\n",
    "axes = plt.gca()\n",
    "axes.set_ylim([0,2.5])\n",
    "plt.title('Videogame Sales by Rating (Normalized)')\n",
    "plt.xlabel('Videogame Ratings')\n",
    "plt.ylabel('Sales (Millions of $)')\n",
    "plt.xticks(barpositions, labels, rotation='vertical')\n",
    "for index in range(len(y)): \n",
    "    plt.text(barpositions[index], y[index], '  ' + str(y[index]), rotation='vertical')\n",
    "\n",
    "\n",
    "# Show the plot\n",
    "plt.show()"
   ]
  },
  {
   "cell_type": "markdown",
   "metadata": {},
   "source": [
    "GTA San Adreas is the only AO game, a someone accessed hidden code in the game and activated it"
   ]
  },
  {
   "cell_type": "markdown",
   "metadata": {},
   "source": [
    "### Find the games that had the first ratings\n",
    "\n"
   ]
  },
  {
   "cell_type": "code",
   "execution_count": null,
   "metadata": {},
   "outputs": [],
   "source": [
    "\n",
    "min_year_index = dataclean[['Year_of_Release']].idxmin()\n",
    "min_year_game = dataclean['Name'][min_year_index].item()\n",
    "min_year_platform = rawdata['Platform'][min_year_index].item()\n",
    "\n",
    "print('The earliest game on the list is:', min_year_game)\n",
    "print('It was originally released in', dataclean['Year_of_Release'].min())\n",
    "print('It was rereleased on the', min_year_platform, 'platform')\n"
   ]
  },
  {
   "cell_type": "code",
   "execution_count": null,
   "metadata": {},
   "outputs": [],
   "source": [
    "dataclean.Year_of_Release.sort_values(ascending=True)"
   ]
  },
  {
   "cell_type": "code",
   "execution_count": null,
   "metadata": {},
   "outputs": [],
   "source": []
  }
 ],
 "metadata": {
  "kernelspec": {
   "display_name": "Python 3",
   "language": "python",
   "name": "python3"
  },
  "language_info": {
   "codemirror_mode": {
    "name": "ipython",
    "version": 3
   },
   "file_extension": ".py",
   "mimetype": "text/x-python",
   "name": "python",
   "nbconvert_exporter": "python",
   "pygments_lexer": "ipython3",
   "version": "3.8.5"
  }
 },
 "nbformat": 4,
 "nbformat_minor": 4
}
