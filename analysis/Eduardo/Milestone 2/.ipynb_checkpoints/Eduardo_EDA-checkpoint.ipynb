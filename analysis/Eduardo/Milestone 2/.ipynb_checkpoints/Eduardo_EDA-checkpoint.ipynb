{
 "cells": [
  {
   "cell_type": "markdown",
   "metadata": {},
   "source": [
    "# Milestone 2: Exploratory Data Analysis\n",
    "##### Eduardo Sequeira\n",
    "---\n",
    "\n",
    "For this milestone, **exploratory data analysis (EDA)** will be conducted on the selected dataset for the project."
   ]
  },
  {
   "cell_type": "markdown",
   "metadata": {},
   "source": [
    "## 1. Introduction\n",
    "\n",
    "For this EDA, there are two main questions that we seek to answer:\n",
    "1. Which videogame *genre* tends to *sell better / more*?\n",
    "2. What is the *correlation* between *game ratings, sales, and genre*?\n",
    "3. When did ratings begin for videogames?\n",
    "\n",
    "The first question is a basic, direct, comparison. The second question is more towards divining the relationships between the three critiera mentioned. The third question, for curiosity, is based around when were the first ratings applied to videogames, or start becoming something expected?\n",
    "\n",
    "Before carrying out the EDA, we need to first clean the dataset. But before cleaning the dataset, we must first understand it and identify what data we need to answer the above questions."
   ]
  },
  {
   "cell_type": "markdown",
   "metadata": {},
   "source": [
    "## 2. Reviewing the Data\n",
    "\n",
    "To begin reviewing the data, we must first load in the required libraries for the EDA and the raw dataset. Once this is done, we can start analyzing the data and move from selection to cleaning, to then performing the analysis. "
   ]
  },
  {
   "cell_type": "code",
   "execution_count": 145,
   "metadata": {},
   "outputs": [],
   "source": [
    "# Loading the required libraries\n",
    "import pandas as pd\n",
    "import numpy as np\n",
    "import matplotlib.pylab as plt"
   ]
  },
  {
   "cell_type": "code",
   "execution_count": 130,
   "metadata": {},
   "outputs": [
    {
     "name": "stdout",
     "output_type": "stream",
     "text": [
      "<class 'pandas.core.frame.DataFrame'>\n",
      "RangeIndex: 16719 entries, 0 to 16718\n",
      "Data columns (total 16 columns):\n",
      " #   Column           Non-Null Count  Dtype  \n",
      "---  ------           --------------  -----  \n",
      " 0   Name             16717 non-null  object \n",
      " 1   Platform         16719 non-null  object \n",
      " 2   Year_of_Release  16450 non-null  float64\n",
      " 3   Genre            16717 non-null  object \n",
      " 4   Publisher        16665 non-null  object \n",
      " 5   NA_Sales         16719 non-null  float64\n",
      " 6   EU_Sales         16719 non-null  float64\n",
      " 7   JP_Sales         16719 non-null  float64\n",
      " 8   Other_Sales      16719 non-null  float64\n",
      " 9   Global_Sales     16719 non-null  float64\n",
      " 10  Critic_Score     8137 non-null   float64\n",
      " 11  Critic_Count     8137 non-null   float64\n",
      " 12  User_Score       10015 non-null  object \n",
      " 13  User_Count       7590 non-null   float64\n",
      " 14  Developer        10096 non-null  object \n",
      " 15  Rating           9950 non-null   object \n",
      "dtypes: float64(9), object(7)\n",
      "memory usage: 2.0+ MB\n"
     ]
    }
   ],
   "source": [
    "# This is to go and fetch the raw dataset file and load it in\n",
    "\n",
    "# Read the raw data from file 'filename.csv' \n",
    "rawdata = pd.read_csv(\"https://github.com/data301-2020-winter2/course-project-group_1019/blob/main/data/raw/Video_Games_Sales_as_at_22_Dec_2016.csv?raw=true.csv\") \n",
    "\n",
    "# Preview the basic information of the loaded data \n",
    "rawdata.info()"
   ]
  },
  {
   "cell_type": "markdown",
   "metadata": {},
   "source": [
    "### Dataset Information\n",
    "\n",
    "When looking at the information of the dataset, we see that the columns whose values are words are of the object (strings) datatype, and the columns which contain numerical values are of the float datatype, which makes sense. We also see that there is a fair difference in the non-null counts for the data between columns, which means that effectively, the number of complete rows (no missing values or NaNs) will be significantly lower than the total names of videogames in the dataset, 16717."
   ]
  },
  {
   "cell_type": "code",
   "execution_count": 131,
   "metadata": {},
   "outputs": [
    {
     "data": {
      "text/html": [
       "<div>\n",
       "<style scoped>\n",
       "    .dataframe tbody tr th:only-of-type {\n",
       "        vertical-align: middle;\n",
       "    }\n",
       "\n",
       "    .dataframe tbody tr th {\n",
       "        vertical-align: top;\n",
       "    }\n",
       "\n",
       "    .dataframe thead th {\n",
       "        text-align: right;\n",
       "    }\n",
       "</style>\n",
       "<table border=\"1\" class=\"dataframe\">\n",
       "  <thead>\n",
       "    <tr style=\"text-align: right;\">\n",
       "      <th></th>\n",
       "      <th>Name</th>\n",
       "      <th>Platform</th>\n",
       "      <th>Year_of_Release</th>\n",
       "      <th>Genre</th>\n",
       "      <th>Publisher</th>\n",
       "      <th>NA_Sales</th>\n",
       "      <th>EU_Sales</th>\n",
       "      <th>JP_Sales</th>\n",
       "      <th>Other_Sales</th>\n",
       "      <th>Global_Sales</th>\n",
       "      <th>Critic_Score</th>\n",
       "      <th>Critic_Count</th>\n",
       "      <th>User_Score</th>\n",
       "      <th>User_Count</th>\n",
       "      <th>Developer</th>\n",
       "      <th>Rating</th>\n",
       "    </tr>\n",
       "  </thead>\n",
       "  <tbody>\n",
       "    <tr>\n",
       "      <th>0</th>\n",
       "      <td>Wii Sports</td>\n",
       "      <td>Wii</td>\n",
       "      <td>2006.0</td>\n",
       "      <td>Sports</td>\n",
       "      <td>Nintendo</td>\n",
       "      <td>41.36</td>\n",
       "      <td>28.96</td>\n",
       "      <td>3.77</td>\n",
       "      <td>8.45</td>\n",
       "      <td>82.53</td>\n",
       "      <td>76.0</td>\n",
       "      <td>51.0</td>\n",
       "      <td>8</td>\n",
       "      <td>322.0</td>\n",
       "      <td>Nintendo</td>\n",
       "      <td>E</td>\n",
       "    </tr>\n",
       "    <tr>\n",
       "      <th>1</th>\n",
       "      <td>Super Mario Bros.</td>\n",
       "      <td>NES</td>\n",
       "      <td>1985.0</td>\n",
       "      <td>Platform</td>\n",
       "      <td>Nintendo</td>\n",
       "      <td>29.08</td>\n",
       "      <td>3.58</td>\n",
       "      <td>6.81</td>\n",
       "      <td>0.77</td>\n",
       "      <td>40.24</td>\n",
       "      <td>NaN</td>\n",
       "      <td>NaN</td>\n",
       "      <td>NaN</td>\n",
       "      <td>NaN</td>\n",
       "      <td>NaN</td>\n",
       "      <td>NaN</td>\n",
       "    </tr>\n",
       "    <tr>\n",
       "      <th>2</th>\n",
       "      <td>Mario Kart Wii</td>\n",
       "      <td>Wii</td>\n",
       "      <td>2008.0</td>\n",
       "      <td>Racing</td>\n",
       "      <td>Nintendo</td>\n",
       "      <td>15.68</td>\n",
       "      <td>12.76</td>\n",
       "      <td>3.79</td>\n",
       "      <td>3.29</td>\n",
       "      <td>35.52</td>\n",
       "      <td>82.0</td>\n",
       "      <td>73.0</td>\n",
       "      <td>8.3</td>\n",
       "      <td>709.0</td>\n",
       "      <td>Nintendo</td>\n",
       "      <td>E</td>\n",
       "    </tr>\n",
       "    <tr>\n",
       "      <th>3</th>\n",
       "      <td>Wii Sports Resort</td>\n",
       "      <td>Wii</td>\n",
       "      <td>2009.0</td>\n",
       "      <td>Sports</td>\n",
       "      <td>Nintendo</td>\n",
       "      <td>15.61</td>\n",
       "      <td>10.93</td>\n",
       "      <td>3.28</td>\n",
       "      <td>2.95</td>\n",
       "      <td>32.77</td>\n",
       "      <td>80.0</td>\n",
       "      <td>73.0</td>\n",
       "      <td>8</td>\n",
       "      <td>192.0</td>\n",
       "      <td>Nintendo</td>\n",
       "      <td>E</td>\n",
       "    </tr>\n",
       "    <tr>\n",
       "      <th>4</th>\n",
       "      <td>Pokemon Red/Pokemon Blue</td>\n",
       "      <td>GB</td>\n",
       "      <td>1996.0</td>\n",
       "      <td>Role-Playing</td>\n",
       "      <td>Nintendo</td>\n",
       "      <td>11.27</td>\n",
       "      <td>8.89</td>\n",
       "      <td>10.22</td>\n",
       "      <td>1.00</td>\n",
       "      <td>31.37</td>\n",
       "      <td>NaN</td>\n",
       "      <td>NaN</td>\n",
       "      <td>NaN</td>\n",
       "      <td>NaN</td>\n",
       "      <td>NaN</td>\n",
       "      <td>NaN</td>\n",
       "    </tr>\n",
       "  </tbody>\n",
       "</table>\n",
       "</div>"
      ],
      "text/plain": [
       "                       Name Platform  Year_of_Release         Genre Publisher  \\\n",
       "0                Wii Sports      Wii           2006.0        Sports  Nintendo   \n",
       "1         Super Mario Bros.      NES           1985.0      Platform  Nintendo   \n",
       "2            Mario Kart Wii      Wii           2008.0        Racing  Nintendo   \n",
       "3         Wii Sports Resort      Wii           2009.0        Sports  Nintendo   \n",
       "4  Pokemon Red/Pokemon Blue       GB           1996.0  Role-Playing  Nintendo   \n",
       "\n",
       "   NA_Sales  EU_Sales  JP_Sales  Other_Sales  Global_Sales  Critic_Score  \\\n",
       "0     41.36     28.96      3.77         8.45         82.53          76.0   \n",
       "1     29.08      3.58      6.81         0.77         40.24           NaN   \n",
       "2     15.68     12.76      3.79         3.29         35.52          82.0   \n",
       "3     15.61     10.93      3.28         2.95         32.77          80.0   \n",
       "4     11.27      8.89     10.22         1.00         31.37           NaN   \n",
       "\n",
       "   Critic_Count User_Score  User_Count Developer Rating  \n",
       "0          51.0          8       322.0  Nintendo      E  \n",
       "1           NaN        NaN         NaN       NaN    NaN  \n",
       "2          73.0        8.3       709.0  Nintendo      E  \n",
       "3          73.0          8       192.0  Nintendo      E  \n",
       "4           NaN        NaN         NaN       NaN    NaN  "
      ]
     },
     "execution_count": 131,
     "metadata": {},
     "output_type": "execute_result"
    }
   ],
   "source": [
    "# Preview the first 5 lines of the loaded data \n",
    "rawdata.head()"
   ]
  },
  {
   "cell_type": "markdown",
   "metadata": {},
   "source": [
    "From the above head, showing us the first five lines of the raw data, we see that there are columns and rows which contain NaNs. When cleaning and manipulating the data at the end, we will want to make sure that we have no NaNs present.\n",
    "\n",
    "However, before beginning to clean, let's select the data we actually need to answer the two above questions. We can do this by looking at the columns that are present in the dataset."
   ]
  },
  {
   "cell_type": "code",
   "execution_count": 132,
   "metadata": {},
   "outputs": [
    {
     "data": {
      "text/plain": [
       "Index(['Name', 'Platform', 'Year_of_Release', 'Genre', 'Publisher', 'NA_Sales',\n",
       "       'EU_Sales', 'JP_Sales', 'Other_Sales', 'Global_Sales', 'Critic_Score',\n",
       "       'Critic_Count', 'User_Score', 'User_Count', 'Developer', 'Rating'],\n",
       "      dtype='object')"
      ]
     },
     "execution_count": 132,
     "metadata": {},
     "output_type": "execute_result"
    }
   ],
   "source": [
    "# Read the column names that we have\n",
    "rawdata.columns"
   ]
  },
  {
   "cell_type": "markdown",
   "metadata": {},
   "source": [
    "### Column Analysis\n",
    "\n",
    "From the column name list above, to answer our questions, we really only need to have three columns: the **Genre**, **Global_Sales**, and **Rating** columns. With these three columns, we will be able to answer which videogame genres sell better, and find if there are any correlations between the ratings, sales and the genres. For curiosity and to address the third question, we will also need the **Year_of_Release** column.\n",
    "\n",
    "\n",
    "###  Column Selection\n",
    "\n",
    "Let's begin by selecting only the columns that are of interest to us to answer our questions: **Year_of_Release**, **Genre**, **Global_Sales**, and **Rating**. We will also keep the column **Name** just for interest, for summarizing later to give an example of some games that exist in each category."
   ]
  },
  {
   "cell_type": "code",
   "execution_count": 133,
   "metadata": {},
   "outputs": [
    {
     "data": {
      "text/html": [
       "<div>\n",
       "<style scoped>\n",
       "    .dataframe tbody tr th:only-of-type {\n",
       "        vertical-align: middle;\n",
       "    }\n",
       "\n",
       "    .dataframe tbody tr th {\n",
       "        vertical-align: top;\n",
       "    }\n",
       "\n",
       "    .dataframe thead th {\n",
       "        text-align: right;\n",
       "    }\n",
       "</style>\n",
       "<table border=\"1\" class=\"dataframe\">\n",
       "  <thead>\n",
       "    <tr style=\"text-align: right;\">\n",
       "      <th></th>\n",
       "      <th>Name</th>\n",
       "      <th>Year_of_Release</th>\n",
       "      <th>Genre</th>\n",
       "      <th>Global_Sales</th>\n",
       "      <th>Rating</th>\n",
       "    </tr>\n",
       "  </thead>\n",
       "  <tbody>\n",
       "    <tr>\n",
       "      <th>0</th>\n",
       "      <td>Wii Sports</td>\n",
       "      <td>2006.0</td>\n",
       "      <td>Sports</td>\n",
       "      <td>82.53</td>\n",
       "      <td>E</td>\n",
       "    </tr>\n",
       "    <tr>\n",
       "      <th>1</th>\n",
       "      <td>Super Mario Bros.</td>\n",
       "      <td>1985.0</td>\n",
       "      <td>Platform</td>\n",
       "      <td>40.24</td>\n",
       "      <td>NaN</td>\n",
       "    </tr>\n",
       "    <tr>\n",
       "      <th>2</th>\n",
       "      <td>Mario Kart Wii</td>\n",
       "      <td>2008.0</td>\n",
       "      <td>Racing</td>\n",
       "      <td>35.52</td>\n",
       "      <td>E</td>\n",
       "    </tr>\n",
       "    <tr>\n",
       "      <th>3</th>\n",
       "      <td>Wii Sports Resort</td>\n",
       "      <td>2009.0</td>\n",
       "      <td>Sports</td>\n",
       "      <td>32.77</td>\n",
       "      <td>E</td>\n",
       "    </tr>\n",
       "    <tr>\n",
       "      <th>4</th>\n",
       "      <td>Pokemon Red/Pokemon Blue</td>\n",
       "      <td>1996.0</td>\n",
       "      <td>Role-Playing</td>\n",
       "      <td>31.37</td>\n",
       "      <td>NaN</td>\n",
       "    </tr>\n",
       "  </tbody>\n",
       "</table>\n",
       "</div>"
      ],
      "text/plain": [
       "                       Name  Year_of_Release         Genre  Global_Sales  \\\n",
       "0                Wii Sports           2006.0        Sports         82.53   \n",
       "1         Super Mario Bros.           1985.0      Platform         40.24   \n",
       "2            Mario Kart Wii           2008.0        Racing         35.52   \n",
       "3         Wii Sports Resort           2009.0        Sports         32.77   \n",
       "4  Pokemon Red/Pokemon Blue           1996.0  Role-Playing         31.37   \n",
       "\n",
       "  Rating  \n",
       "0      E  \n",
       "1    NaN  \n",
       "2      E  \n",
       "3      E  \n",
       "4    NaN  "
      ]
     },
     "execution_count": 133,
     "metadata": {},
     "output_type": "execute_result"
    }
   ],
   "source": [
    "# Select only the Year_of_Release, Genre, Global_Sales, and Rating columns\n",
    "\n",
    "# Create a new edited raw dataset from the original raw dataset\n",
    "rawdataedit = rawdata\n",
    "\n",
    "rawdataedit = rawdataedit.filter(['Name','Year_of_Release','Genre','Global_Sales','Rating'])\n",
    "\n",
    "rawdataedit.head()\n"
   ]
  },
  {
   "cell_type": "markdown",
   "metadata": {},
   "source": [
    "### Data Cleaning\n",
    "\n",
    "Now that we only have the four columns of interest, we can proceed to the next task that  will be cleaning the data, so that there are no NaNs in four main columns."
   ]
  },
  {
   "cell_type": "code",
   "execution_count": 134,
   "metadata": {},
   "outputs": [
    {
     "name": "stdout",
     "output_type": "stream",
     "text": [
      "                    Name  Year_of_Release     Genre  Global_Sales Rating\n",
      "0             Wii Sports           2006.0    Sports         82.53      E\n",
      "2         Mario Kart Wii           2008.0    Racing         35.52      E\n",
      "3      Wii Sports Resort           2009.0    Sports         32.77      E\n",
      "6  New Super Mario Bros.           2006.0  Platform         29.80      E\n",
      "7               Wii Play           2006.0      Misc         28.92      E \n",
      " \n",
      "\n",
      "<class 'pandas.core.frame.DataFrame'>\n",
      "Int64Index: 9769 entries, 0 to 16710\n",
      "Data columns (total 5 columns):\n",
      " #   Column           Non-Null Count  Dtype  \n",
      "---  ------           --------------  -----  \n",
      " 0   Name             9769 non-null   object \n",
      " 1   Year_of_Release  9769 non-null   float64\n",
      " 2   Genre            9769 non-null   object \n",
      " 3   Global_Sales     9769 non-null   float64\n",
      " 4   Rating           9769 non-null   object \n",
      "dtypes: float64(2), object(3)\n",
      "memory usage: 457.9+ KB\n",
      "None\n"
     ]
    }
   ],
   "source": [
    "dataclean = rawdataedit.dropna()\n",
    "\n",
    "print(dataclean.head(), '\\n', '\\n')\n",
    "print(dataclean.info())"
   ]
  },
  {
   "cell_type": "markdown",
   "metadata": {},
   "source": [
    "From the above, we see that we have now we have a total of five columns that we are interested in, and that all five columns have the same number of rows, 9769, which is perfect and what we want. We also know now that each of these rows are \"complete\" meaning that there are no longer any NaNs in our dataset."
   ]
  },
  {
   "cell_type": "markdown",
   "metadata": {},
   "source": [
    "### Setting the Data Types\n",
    "\n",
    "As of now, the columns **Name**, **Genre** and **Rating** are set as object, and we should change **Genre** and **Rating** to be categories. We will want to do this because we know that the entries in these columns will be from a known set of variables. **Name** should be converted into a string because it is the name of the videogame in question. For the **Global_Sales**, we will want to keep this as it, because float64 will give us a numerical value with a decimal point for more precision. For **Year_of_Release**, we will convert this to an int64 datatype because we know that the year is simply the year, not needing decimal places for this. "
   ]
  },
  {
   "cell_type": "code",
   "execution_count": 135,
   "metadata": {},
   "outputs": [
    {
     "name": "stdout",
     "output_type": "stream",
     "text": [
      "<class 'pandas.core.frame.DataFrame'>\n",
      "Int64Index: 9769 entries, 0 to 16710\n",
      "Data columns (total 5 columns):\n",
      " #   Column           Non-Null Count  Dtype   \n",
      "---  ------           --------------  -----   \n",
      " 0   Name             9769 non-null   string  \n",
      " 1   Year_of_Release  9769 non-null   int64   \n",
      " 2   Genre            9769 non-null   category\n",
      " 3   Global_Sales     9769 non-null   float64 \n",
      " 4   Rating           9769 non-null   category\n",
      "dtypes: category(2), float64(1), int64(1), string(1)\n",
      "memory usage: 325.1 KB\n",
      "None \n",
      " \n",
      "\n",
      "                    Name  Year_of_Release     Genre  Global_Sales Rating\n",
      "0             Wii Sports             2006    Sports         82.53      E\n",
      "2         Mario Kart Wii             2008    Racing         35.52      E\n",
      "3      Wii Sports Resort             2009    Sports         32.77      E\n",
      "6  New Super Mario Bros.             2006  Platform         29.80      E\n",
      "7               Wii Play             2006      Misc         28.92      E\n"
     ]
    },
    {
     "name": "stderr",
     "output_type": "stream",
     "text": [
      "<ipython-input-135-12da3036b07b>:2: SettingWithCopyWarning: \n",
      "A value is trying to be set on a copy of a slice from a DataFrame.\n",
      "Try using .loc[row_indexer,col_indexer] = value instead\n",
      "\n",
      "See the caveats in the documentation: https://pandas.pydata.org/pandas-docs/stable/user_guide/indexing.html#returning-a-view-versus-a-copy\n",
      "  dataclean['Name'] = dataclean['Name'].astype(\"string\")\n",
      "<ipython-input-135-12da3036b07b>:3: SettingWithCopyWarning: \n",
      "A value is trying to be set on a copy of a slice from a DataFrame.\n",
      "Try using .loc[row_indexer,col_indexer] = value instead\n",
      "\n",
      "See the caveats in the documentation: https://pandas.pydata.org/pandas-docs/stable/user_guide/indexing.html#returning-a-view-versus-a-copy\n",
      "  dataclean['Year_of_Release'] = dataclean['Year_of_Release'].astype('int64')\n",
      "<ipython-input-135-12da3036b07b>:4: SettingWithCopyWarning: \n",
      "A value is trying to be set on a copy of a slice from a DataFrame.\n",
      "Try using .loc[row_indexer,col_indexer] = value instead\n",
      "\n",
      "See the caveats in the documentation: https://pandas.pydata.org/pandas-docs/stable/user_guide/indexing.html#returning-a-view-versus-a-copy\n",
      "  dataclean['Genre'] = dataclean['Genre'].astype('category')\n",
      "<ipython-input-135-12da3036b07b>:5: SettingWithCopyWarning: \n",
      "A value is trying to be set on a copy of a slice from a DataFrame.\n",
      "Try using .loc[row_indexer,col_indexer] = value instead\n",
      "\n",
      "See the caveats in the documentation: https://pandas.pydata.org/pandas-docs/stable/user_guide/indexing.html#returning-a-view-versus-a-copy\n",
      "  dataclean['Rating'] = dataclean['Rating'].astype('category')\n"
     ]
    }
   ],
   "source": [
    "# Set columns Genre and Rating to be categories and check the info again\n",
    "dataclean['Name'] = dataclean['Name'].astype(\"string\")\n",
    "dataclean['Year_of_Release'] = dataclean['Year_of_Release'].astype('int64')\n",
    "dataclean['Genre'] = dataclean['Genre'].astype('category')\n",
    "dataclean['Rating'] = dataclean['Rating'].astype('category')\n",
    "\n",
    "# Check if the Dtype for columns Genre and Rating are now changed to be category, and Year_of_Release is str\n",
    "print(dataclean.info(), '\\n', '\\n')\n",
    "print(dataclean.head())\n"
   ]
  },
  {
   "cell_type": "markdown",
   "metadata": {},
   "source": [
    "From the above, we have now set up the dataset data types the way we want them.  \n",
    "**Name** is now a string.  \n",
    "**Year_of_Release** is now an integer.  \n",
    "**Genre** and **Rating** are now both categories.  \n",
    "**Global_Sales** is now a float."
   ]
  },
  {
   "cell_type": "markdown",
   "metadata": {},
   "source": [
    "### Exploratory Data Analysis\n",
    "\n",
    "With everything now set up the way we need, and the data set is cleaned, we can proceed and begin with doing the EDA."
   ]
  },
  {
   "cell_type": "markdown",
   "metadata": {},
   "source": [
    "#### Unique Values Per Column\n",
    "\n",
    "The first thing we are interested in knowing is the unique values that we have per column for the **Genre** and **Rating**.  \n",
    "This will allow us to figure out how many genres of videogames are considered in this dataset, as well as the number of ratings that there are for he videogames."
   ]
  },
  {
   "cell_type": "code",
   "execution_count": 157,
   "metadata": {},
   "outputs": [
    {
     "name": "stdout",
     "output_type": "stream",
     "text": [
      "The following are the unique genres considered in the dataset: \n",
      " ['Sports', 'Racing', 'Platform', 'Misc', 'Action', ..., 'Fighting', 'Simulation', 'Role-Playing', 'Adventure', 'Strategy']\n",
      "Length: 12\n",
      "Categories (12, object): ['Sports', 'Racing', 'Platform', 'Misc', ..., 'Simulation', 'Role-Playing', 'Adventure', 'Strategy'] \n",
      "\n",
      "The following are the unique genres considered in the dataset: \n",
      " ['E', 'M', 'T', 'E10+', 'K-A', 'AO', 'EC', 'RP']\n",
      "Categories (8, object): ['E', 'M', 'T', 'E10+', 'K-A', 'AO', 'EC', 'RP']\n"
     ]
    }
   ],
   "source": [
    "# Unique values in Genre and Rating columns\n",
    "\n",
    "print('The following are the unique genres considered in the dataset:', '\\n', dataclean.Genre.unique(), '\\n')\n",
    "\n",
    "\n",
    "print('The following are the unique genres considered in the dataset:', '\\n', dataclean.Rating.unique())\n"
   ]
  },
  {
   "cell_type": "code",
   "execution_count": null,
   "metadata": {},
   "outputs": [],
   "source": []
  }
 ],
 "metadata": {
  "kernelspec": {
   "display_name": "Python 3",
   "language": "python",
   "name": "python3"
  },
  "language_info": {
   "codemirror_mode": {
    "name": "ipython",
    "version": 3
   },
   "file_extension": ".py",
   "mimetype": "text/x-python",
   "name": "python",
   "nbconvert_exporter": "python",
   "pygments_lexer": "ipython3",
   "version": "3.8.5"
  }
 },
 "nbformat": 4,
 "nbformat_minor": 4
}
