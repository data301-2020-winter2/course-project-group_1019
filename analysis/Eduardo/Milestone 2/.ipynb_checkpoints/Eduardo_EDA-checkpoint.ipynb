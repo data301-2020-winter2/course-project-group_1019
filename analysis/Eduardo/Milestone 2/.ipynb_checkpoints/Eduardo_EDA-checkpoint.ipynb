{
 "cells": [
  {
   "cell_type": "markdown",
   "metadata": {},
   "source": [
    "# Milestone 2: Exploratory Data Analysis\n",
    "##### Eduardo Sequeira\n",
    "---\n",
    "\n",
    "For this milestone, **exploratory data analysis (EDA)** will be conducted on the selected dataset for the project."
   ]
  },
  {
   "cell_type": "markdown",
   "metadata": {},
   "source": [
    "## 1. Introduction\n",
    "\n",
    "For this EDA, there are two main questions that we seek to answer:\n",
    "1. Which videogame *genre* tends to *sell better / more*?\n",
    "2. What is the *correlation* between *game ratings, sales, and genre*?\n",
    "3. When did ratings begin for videogames?\n",
    "\n",
    "The first question is a basic, direct, comparison. The second question is more towards divining the relationships between the three critiera mentioned. The third question, for curiosity, is based around when were the first ratings applied to videogames, or start becoming something expected?\n",
    "\n",
    "Before carrying out the EDA, we need to first clean the dataset. But before cleaning the dataset, we must first understand it and identify what data we need to answer the above questions."
   ]
  },
  {
   "cell_type": "markdown",
   "metadata": {},
   "source": [
    "## 2. Reviewing the Data\n",
    "\n",
    "To begin reviewing the data, we must first load in the required libraries for the EDA and the raw dataset. Once this is done, we can start analyzing the data and move from selection to cleaning, to then performing the analysis. "
   ]
  },
  {
   "cell_type": "code",
   "execution_count": 15,
   "metadata": {},
   "outputs": [],
   "source": [
    "# Loading the required libraries\n",
    "import pandas as pd\n",
    "import numpy as np\n",
    "import matplotlib.pylab as plt"
   ]
  },
  {
   "cell_type": "code",
   "execution_count": 16,
   "metadata": {},
   "outputs": [
    {
     "name": "stdout",
     "output_type": "stream",
     "text": [
      "<class 'pandas.core.frame.DataFrame'>\n",
      "RangeIndex: 16719 entries, 0 to 16718\n",
      "Data columns (total 16 columns):\n",
      " #   Column           Non-Null Count  Dtype  \n",
      "---  ------           --------------  -----  \n",
      " 0   Name             16717 non-null  object \n",
      " 1   Platform         16719 non-null  object \n",
      " 2   Year_of_Release  16450 non-null  float64\n",
      " 3   Genre            16717 non-null  object \n",
      " 4   Publisher        16665 non-null  object \n",
      " 5   NA_Sales         16719 non-null  float64\n",
      " 6   EU_Sales         16719 non-null  float64\n",
      " 7   JP_Sales         16719 non-null  float64\n",
      " 8   Other_Sales      16719 non-null  float64\n",
      " 9   Global_Sales     16719 non-null  float64\n",
      " 10  Critic_Score     8137 non-null   float64\n",
      " 11  Critic_Count     8137 non-null   float64\n",
      " 12  User_Score       10015 non-null  object \n",
      " 13  User_Count       7590 non-null   float64\n",
      " 14  Developer        10096 non-null  object \n",
      " 15  Rating           9950 non-null   object \n",
      "dtypes: float64(9), object(7)\n",
      "memory usage: 2.0+ MB\n"
     ]
    }
   ],
   "source": [
    "# This is to go and fetch the raw dataset file and load it in\n",
    "\n",
    "# Read the raw data from file 'filename.csv' \n",
    "rawdata = pd.read_csv(\"https://github.com/data301-2020-winter2/course-project-group_1019/blob/main/data/raw/Video_Games_Sales_as_at_22_Dec_2016.csv?raw=true.csv\") \n",
    "\n",
    "# Preview the basic information of the loaded data \n",
    "rawdata.info()"
   ]
  },
  {
   "cell_type": "markdown",
   "metadata": {},
   "source": [
    "### Dataset Information\n",
    "\n",
    "When looking at the information of the dataset, we see that the columns whose values are words are of the object (strings) datatype, and the columns which contain numerical values are of the float datatype, which makes sense. We also see that there is a fair difference in the non-null counts for the data between columns, which means that effectively, the number of complete rows (no missing values or NaNs) will be significantly lower than the total names of videogames in the dataset, 16717."
   ]
  },
  {
   "cell_type": "code",
   "execution_count": 17,
   "metadata": {},
   "outputs": [
    {
     "data": {
      "text/html": [
       "<div>\n",
       "<style scoped>\n",
       "    .dataframe tbody tr th:only-of-type {\n",
       "        vertical-align: middle;\n",
       "    }\n",
       "\n",
       "    .dataframe tbody tr th {\n",
       "        vertical-align: top;\n",
       "    }\n",
       "\n",
       "    .dataframe thead th {\n",
       "        text-align: right;\n",
       "    }\n",
       "</style>\n",
       "<table border=\"1\" class=\"dataframe\">\n",
       "  <thead>\n",
       "    <tr style=\"text-align: right;\">\n",
       "      <th></th>\n",
       "      <th>Name</th>\n",
       "      <th>Platform</th>\n",
       "      <th>Year_of_Release</th>\n",
       "      <th>Genre</th>\n",
       "      <th>Publisher</th>\n",
       "      <th>NA_Sales</th>\n",
       "      <th>EU_Sales</th>\n",
       "      <th>JP_Sales</th>\n",
       "      <th>Other_Sales</th>\n",
       "      <th>Global_Sales</th>\n",
       "      <th>Critic_Score</th>\n",
       "      <th>Critic_Count</th>\n",
       "      <th>User_Score</th>\n",
       "      <th>User_Count</th>\n",
       "      <th>Developer</th>\n",
       "      <th>Rating</th>\n",
       "    </tr>\n",
       "  </thead>\n",
       "  <tbody>\n",
       "    <tr>\n",
       "      <th>0</th>\n",
       "      <td>Wii Sports</td>\n",
       "      <td>Wii</td>\n",
       "      <td>2006.0</td>\n",
       "      <td>Sports</td>\n",
       "      <td>Nintendo</td>\n",
       "      <td>41.36</td>\n",
       "      <td>28.96</td>\n",
       "      <td>3.77</td>\n",
       "      <td>8.45</td>\n",
       "      <td>82.53</td>\n",
       "      <td>76.0</td>\n",
       "      <td>51.0</td>\n",
       "      <td>8</td>\n",
       "      <td>322.0</td>\n",
       "      <td>Nintendo</td>\n",
       "      <td>E</td>\n",
       "    </tr>\n",
       "    <tr>\n",
       "      <th>1</th>\n",
       "      <td>Super Mario Bros.</td>\n",
       "      <td>NES</td>\n",
       "      <td>1985.0</td>\n",
       "      <td>Platform</td>\n",
       "      <td>Nintendo</td>\n",
       "      <td>29.08</td>\n",
       "      <td>3.58</td>\n",
       "      <td>6.81</td>\n",
       "      <td>0.77</td>\n",
       "      <td>40.24</td>\n",
       "      <td>NaN</td>\n",
       "      <td>NaN</td>\n",
       "      <td>NaN</td>\n",
       "      <td>NaN</td>\n",
       "      <td>NaN</td>\n",
       "      <td>NaN</td>\n",
       "    </tr>\n",
       "    <tr>\n",
       "      <th>2</th>\n",
       "      <td>Mario Kart Wii</td>\n",
       "      <td>Wii</td>\n",
       "      <td>2008.0</td>\n",
       "      <td>Racing</td>\n",
       "      <td>Nintendo</td>\n",
       "      <td>15.68</td>\n",
       "      <td>12.76</td>\n",
       "      <td>3.79</td>\n",
       "      <td>3.29</td>\n",
       "      <td>35.52</td>\n",
       "      <td>82.0</td>\n",
       "      <td>73.0</td>\n",
       "      <td>8.3</td>\n",
       "      <td>709.0</td>\n",
       "      <td>Nintendo</td>\n",
       "      <td>E</td>\n",
       "    </tr>\n",
       "    <tr>\n",
       "      <th>3</th>\n",
       "      <td>Wii Sports Resort</td>\n",
       "      <td>Wii</td>\n",
       "      <td>2009.0</td>\n",
       "      <td>Sports</td>\n",
       "      <td>Nintendo</td>\n",
       "      <td>15.61</td>\n",
       "      <td>10.93</td>\n",
       "      <td>3.28</td>\n",
       "      <td>2.95</td>\n",
       "      <td>32.77</td>\n",
       "      <td>80.0</td>\n",
       "      <td>73.0</td>\n",
       "      <td>8</td>\n",
       "      <td>192.0</td>\n",
       "      <td>Nintendo</td>\n",
       "      <td>E</td>\n",
       "    </tr>\n",
       "    <tr>\n",
       "      <th>4</th>\n",
       "      <td>Pokemon Red/Pokemon Blue</td>\n",
       "      <td>GB</td>\n",
       "      <td>1996.0</td>\n",
       "      <td>Role-Playing</td>\n",
       "      <td>Nintendo</td>\n",
       "      <td>11.27</td>\n",
       "      <td>8.89</td>\n",
       "      <td>10.22</td>\n",
       "      <td>1.00</td>\n",
       "      <td>31.37</td>\n",
       "      <td>NaN</td>\n",
       "      <td>NaN</td>\n",
       "      <td>NaN</td>\n",
       "      <td>NaN</td>\n",
       "      <td>NaN</td>\n",
       "      <td>NaN</td>\n",
       "    </tr>\n",
       "  </tbody>\n",
       "</table>\n",
       "</div>"
      ],
      "text/plain": [
       "                       Name Platform  Year_of_Release         Genre Publisher  \\\n",
       "0                Wii Sports      Wii           2006.0        Sports  Nintendo   \n",
       "1         Super Mario Bros.      NES           1985.0      Platform  Nintendo   \n",
       "2            Mario Kart Wii      Wii           2008.0        Racing  Nintendo   \n",
       "3         Wii Sports Resort      Wii           2009.0        Sports  Nintendo   \n",
       "4  Pokemon Red/Pokemon Blue       GB           1996.0  Role-Playing  Nintendo   \n",
       "\n",
       "   NA_Sales  EU_Sales  JP_Sales  Other_Sales  Global_Sales  Critic_Score  \\\n",
       "0     41.36     28.96      3.77         8.45         82.53          76.0   \n",
       "1     29.08      3.58      6.81         0.77         40.24           NaN   \n",
       "2     15.68     12.76      3.79         3.29         35.52          82.0   \n",
       "3     15.61     10.93      3.28         2.95         32.77          80.0   \n",
       "4     11.27      8.89     10.22         1.00         31.37           NaN   \n",
       "\n",
       "   Critic_Count User_Score  User_Count Developer Rating  \n",
       "0          51.0          8       322.0  Nintendo      E  \n",
       "1           NaN        NaN         NaN       NaN    NaN  \n",
       "2          73.0        8.3       709.0  Nintendo      E  \n",
       "3          73.0          8       192.0  Nintendo      E  \n",
       "4           NaN        NaN         NaN       NaN    NaN  "
      ]
     },
     "execution_count": 17,
     "metadata": {},
     "output_type": "execute_result"
    }
   ],
   "source": [
    "# Preview the first 5 lines of the loaded data \n",
    "rawdata.head()"
   ]
  },
  {
   "cell_type": "markdown",
   "metadata": {},
   "source": [
    "From the above head, showing us the first five lines of the raw data, we see that there are columns and rows which contain NaNs. When cleaning and manipulating the data at the end, we will want to make sure that we have no NaNs present.\n",
    "\n",
    "However, before beginning to clean, let's select the data we actually need to answer the two above questions. We can do this by looking at the columns that are present in the dataset."
   ]
  },
  {
   "cell_type": "code",
   "execution_count": 18,
   "metadata": {},
   "outputs": [
    {
     "name": "stdout",
     "output_type": "stream",
     "text": [
      "['Name' 'Platform' 'Year_of_Release' 'Genre' 'Publisher' 'NA_Sales'\n",
      " 'EU_Sales' 'JP_Sales' 'Other_Sales' 'Global_Sales' 'Critic_Score'\n",
      " 'Critic_Count' 'User_Score' 'User_Count' 'Developer' 'Rating']\n"
     ]
    }
   ],
   "source": [
    "# Read the column names that we have\n",
    "print(rawdata.columns.values)\n"
   ]
  },
  {
   "cell_type": "markdown",
   "metadata": {},
   "source": [
    "### Column Analysis\n",
    "\n",
    "From the column name list above, to answer our questions, we really only need to have three columns: the **Genre**, **Global_Sales**, and **Rating** columns. With these three columns, we will be able to answer which videogame genres sell better, and find if there are any correlations between the ratings, sales and the genres. For curiosity and to address the third question, we will also need the **Year_of_Release** column.\n",
    "\n",
    "\n",
    "###  Column Selection\n",
    "\n",
    "Let's begin by selecting only the columns that are of interest to us to answer our questions: **Year_of_Release**, **Genre**, **Global_Sales**, and **Rating**. We will also keep the column **Name** just for interest, for summarizing later to give an example of some games that exist in each category."
   ]
  },
  {
   "cell_type": "code",
   "execution_count": 19,
   "metadata": {},
   "outputs": [
    {
     "data": {
      "text/html": [
       "<div>\n",
       "<style scoped>\n",
       "    .dataframe tbody tr th:only-of-type {\n",
       "        vertical-align: middle;\n",
       "    }\n",
       "\n",
       "    .dataframe tbody tr th {\n",
       "        vertical-align: top;\n",
       "    }\n",
       "\n",
       "    .dataframe thead th {\n",
       "        text-align: right;\n",
       "    }\n",
       "</style>\n",
       "<table border=\"1\" class=\"dataframe\">\n",
       "  <thead>\n",
       "    <tr style=\"text-align: right;\">\n",
       "      <th></th>\n",
       "      <th>Name</th>\n",
       "      <th>Year_of_Release</th>\n",
       "      <th>Genre</th>\n",
       "      <th>Global_Sales</th>\n",
       "      <th>Rating</th>\n",
       "    </tr>\n",
       "  </thead>\n",
       "  <tbody>\n",
       "    <tr>\n",
       "      <th>0</th>\n",
       "      <td>Wii Sports</td>\n",
       "      <td>2006.0</td>\n",
       "      <td>Sports</td>\n",
       "      <td>82.53</td>\n",
       "      <td>E</td>\n",
       "    </tr>\n",
       "    <tr>\n",
       "      <th>1</th>\n",
       "      <td>Super Mario Bros.</td>\n",
       "      <td>1985.0</td>\n",
       "      <td>Platform</td>\n",
       "      <td>40.24</td>\n",
       "      <td>NaN</td>\n",
       "    </tr>\n",
       "    <tr>\n",
       "      <th>2</th>\n",
       "      <td>Mario Kart Wii</td>\n",
       "      <td>2008.0</td>\n",
       "      <td>Racing</td>\n",
       "      <td>35.52</td>\n",
       "      <td>E</td>\n",
       "    </tr>\n",
       "    <tr>\n",
       "      <th>3</th>\n",
       "      <td>Wii Sports Resort</td>\n",
       "      <td>2009.0</td>\n",
       "      <td>Sports</td>\n",
       "      <td>32.77</td>\n",
       "      <td>E</td>\n",
       "    </tr>\n",
       "    <tr>\n",
       "      <th>4</th>\n",
       "      <td>Pokemon Red/Pokemon Blue</td>\n",
       "      <td>1996.0</td>\n",
       "      <td>Role-Playing</td>\n",
       "      <td>31.37</td>\n",
       "      <td>NaN</td>\n",
       "    </tr>\n",
       "  </tbody>\n",
       "</table>\n",
       "</div>"
      ],
      "text/plain": [
       "                       Name  Year_of_Release         Genre  Global_Sales  \\\n",
       "0                Wii Sports           2006.0        Sports         82.53   \n",
       "1         Super Mario Bros.           1985.0      Platform         40.24   \n",
       "2            Mario Kart Wii           2008.0        Racing         35.52   \n",
       "3         Wii Sports Resort           2009.0        Sports         32.77   \n",
       "4  Pokemon Red/Pokemon Blue           1996.0  Role-Playing         31.37   \n",
       "\n",
       "  Rating  \n",
       "0      E  \n",
       "1    NaN  \n",
       "2      E  \n",
       "3      E  \n",
       "4    NaN  "
      ]
     },
     "execution_count": 19,
     "metadata": {},
     "output_type": "execute_result"
    }
   ],
   "source": [
    "# Select only the Year_of_Release, Genre, Global_Sales, and Rating columns\n",
    "\n",
    "# Create a new edited raw dataset from the original raw dataset\n",
    "rawdataedit = rawdata\n",
    "\n",
    "# Filters the five columns that we are interested in and saves them over the dataset\n",
    "rawdataedit = rawdataedit.filter(['Name','Year_of_Release','Genre','Global_Sales','Rating'])\n",
    "\n",
    "rawdataedit.head()\n"
   ]
  },
  {
   "cell_type": "markdown",
   "metadata": {},
   "source": [
    "### Data Cleaning\n",
    "\n",
    "Now that we only have the four columns of interest, we can proceed to the next task that  will be cleaning the data, so that there are no NaNs in four main columns."
   ]
  },
  {
   "cell_type": "code",
   "execution_count": 20,
   "metadata": {},
   "outputs": [
    {
     "data": {
      "text/html": [
       "<div>\n",
       "<style scoped>\n",
       "    .dataframe tbody tr th:only-of-type {\n",
       "        vertical-align: middle;\n",
       "    }\n",
       "\n",
       "    .dataframe tbody tr th {\n",
       "        vertical-align: top;\n",
       "    }\n",
       "\n",
       "    .dataframe thead th {\n",
       "        text-align: right;\n",
       "    }\n",
       "</style>\n",
       "<table border=\"1\" class=\"dataframe\">\n",
       "  <thead>\n",
       "    <tr style=\"text-align: right;\">\n",
       "      <th></th>\n",
       "      <th>Name</th>\n",
       "      <th>Year_of_Release</th>\n",
       "      <th>Genre</th>\n",
       "      <th>Global_Sales</th>\n",
       "      <th>Rating</th>\n",
       "    </tr>\n",
       "  </thead>\n",
       "  <tbody>\n",
       "    <tr>\n",
       "      <th>0</th>\n",
       "      <td>Wii Sports</td>\n",
       "      <td>2006.0</td>\n",
       "      <td>Sports</td>\n",
       "      <td>82.53</td>\n",
       "      <td>E</td>\n",
       "    </tr>\n",
       "    <tr>\n",
       "      <th>2</th>\n",
       "      <td>Mario Kart Wii</td>\n",
       "      <td>2008.0</td>\n",
       "      <td>Racing</td>\n",
       "      <td>35.52</td>\n",
       "      <td>E</td>\n",
       "    </tr>\n",
       "    <tr>\n",
       "      <th>3</th>\n",
       "      <td>Wii Sports Resort</td>\n",
       "      <td>2009.0</td>\n",
       "      <td>Sports</td>\n",
       "      <td>32.77</td>\n",
       "      <td>E</td>\n",
       "    </tr>\n",
       "    <tr>\n",
       "      <th>6</th>\n",
       "      <td>New Super Mario Bros.</td>\n",
       "      <td>2006.0</td>\n",
       "      <td>Platform</td>\n",
       "      <td>29.80</td>\n",
       "      <td>E</td>\n",
       "    </tr>\n",
       "    <tr>\n",
       "      <th>7</th>\n",
       "      <td>Wii Play</td>\n",
       "      <td>2006.0</td>\n",
       "      <td>Misc</td>\n",
       "      <td>28.92</td>\n",
       "      <td>E</td>\n",
       "    </tr>\n",
       "  </tbody>\n",
       "</table>\n",
       "</div>"
      ],
      "text/plain": [
       "                    Name  Year_of_Release     Genre  Global_Sales Rating\n",
       "0             Wii Sports           2006.0    Sports         82.53      E\n",
       "2         Mario Kart Wii           2008.0    Racing         35.52      E\n",
       "3      Wii Sports Resort           2009.0    Sports         32.77      E\n",
       "6  New Super Mario Bros.           2006.0  Platform         29.80      E\n",
       "7               Wii Play           2006.0      Misc         28.92      E"
      ]
     },
     "metadata": {},
     "output_type": "display_data"
    },
    {
     "name": "stdout",
     "output_type": "stream",
     "text": [
      "\n",
      "\n",
      "<class 'pandas.core.frame.DataFrame'>\n",
      "Int64Index: 9769 entries, 0 to 16710\n",
      "Data columns (total 5 columns):\n",
      " #   Column           Non-Null Count  Dtype  \n",
      "---  ------           --------------  -----  \n",
      " 0   Name             9769 non-null   object \n",
      " 1   Year_of_Release  9769 non-null   float64\n",
      " 2   Genre            9769 non-null   object \n",
      " 3   Global_Sales     9769 non-null   float64\n",
      " 4   Rating           9769 non-null   object \n",
      "dtypes: float64(2), object(3)\n",
      "memory usage: 457.9+ KB\n"
     ]
    }
   ],
   "source": [
    "# Establishing a new dataset that will be dataclean from the latest edited rawdata\n",
    "dataclean = rawdataedit.dropna()\n",
    "\n",
    "# Display the head and the info of the clean dataset\n",
    "display(dataclean.head())\n",
    "print(\"\\n\")\n",
    "dataclean.info()"
   ]
  },
  {
   "cell_type": "markdown",
   "metadata": {},
   "source": [
    "From the above, we see that we have now we have a total of five columns that we are interested in, and that all five columns have the same number of rows, 9769, which is perfect and what we want. We also know now that each of these rows are \"complete\" meaning that there are no longer any NaNs in our dataset."
   ]
  },
  {
   "cell_type": "markdown",
   "metadata": {},
   "source": [
    "Turn K-A to E"
   ]
  },
  {
   "cell_type": "code",
   "execution_count": 61,
   "metadata": {},
   "outputs": [
    {
     "name": "stdout",
     "output_type": "stream",
     "text": [
      "Number of changes made: 3\n"
     ]
    },
    {
     "name": "stderr",
     "output_type": "stream",
     "text": [
      "<ipython-input-61-1cb51b2cc8df>:7: SettingWithCopyWarning: \n",
      "A value is trying to be set on a copy of a slice from a DataFrame\n",
      "\n",
      "See the caveats in the documentation: https://pandas.pydata.org/pandas-docs/stable/user_guide/indexing.html#returning-a-view-versus-a-copy\n",
      "  dataclean.Rating[rownumber] = 'E'\n"
     ]
    }
   ],
   "source": [
    "\n",
    "# Takes the indicies of the dataclean dataframe\n",
    "index = dataclean.index\n",
    "changes = 0\n",
    "\n",
    "for rownumber in dataclean.index:\n",
    "    if dataclean.Rating[rownumber] == 'K-A':\n",
    "        dataclean.Rating[rownumber] = 'E'\n",
    "        changes += 1\n",
    "    \n",
    "print('Number of changes made:', changes)"
   ]
  },
  {
   "cell_type": "markdown",
   "metadata": {},
   "source": [
    "### Setting the Data Types\n",
    "\n",
    "As of now, the columns **Name**, **Genre** and **Rating** are set as object, and we should change **Genre** and **Rating** to be categories. We will want to do this because we know that the entries in these columns will be from a known set of variables. **Name** should be converted into a string because it is the name of the videogame in question. For the **Global_Sales**, we will want to keep this as it, because float64 will give us a numerical value with a decimal point for more precision. For **Year_of_Release**, we will convert this to an int64 datatype because we know that the year is simply the year, not needing decimal places for this. "
   ]
  },
  {
   "cell_type": "code",
   "execution_count": 62,
   "metadata": {},
   "outputs": [
    {
     "name": "stderr",
     "output_type": "stream",
     "text": [
      "<ipython-input-62-4216a8572b2c>:2: SettingWithCopyWarning: \n",
      "A value is trying to be set on a copy of a slice from a DataFrame.\n",
      "Try using .loc[row_indexer,col_indexer] = value instead\n",
      "\n",
      "See the caveats in the documentation: https://pandas.pydata.org/pandas-docs/stable/user_guide/indexing.html#returning-a-view-versus-a-copy\n",
      "  dataclean['Name'] = dataclean['Name'].astype(\"string\")\n",
      "<ipython-input-62-4216a8572b2c>:3: SettingWithCopyWarning: \n",
      "A value is trying to be set on a copy of a slice from a DataFrame.\n",
      "Try using .loc[row_indexer,col_indexer] = value instead\n",
      "\n",
      "See the caveats in the documentation: https://pandas.pydata.org/pandas-docs/stable/user_guide/indexing.html#returning-a-view-versus-a-copy\n",
      "  dataclean['Year_of_Release'] = dataclean['Year_of_Release'].astype('int64')\n",
      "<ipython-input-62-4216a8572b2c>:4: SettingWithCopyWarning: \n",
      "A value is trying to be set on a copy of a slice from a DataFrame.\n",
      "Try using .loc[row_indexer,col_indexer] = value instead\n",
      "\n",
      "See the caveats in the documentation: https://pandas.pydata.org/pandas-docs/stable/user_guide/indexing.html#returning-a-view-versus-a-copy\n",
      "  dataclean['Genre'] = dataclean['Genre'].astype('category')\n",
      "<ipython-input-62-4216a8572b2c>:5: SettingWithCopyWarning: \n",
      "A value is trying to be set on a copy of a slice from a DataFrame.\n",
      "Try using .loc[row_indexer,col_indexer] = value instead\n",
      "\n",
      "See the caveats in the documentation: https://pandas.pydata.org/pandas-docs/stable/user_guide/indexing.html#returning-a-view-versus-a-copy\n",
      "  dataclean['Rating'] = dataclean['Rating'].astype('category')\n"
     ]
    },
    {
     "data": {
      "text/html": [
       "<div>\n",
       "<style scoped>\n",
       "    .dataframe tbody tr th:only-of-type {\n",
       "        vertical-align: middle;\n",
       "    }\n",
       "\n",
       "    .dataframe tbody tr th {\n",
       "        vertical-align: top;\n",
       "    }\n",
       "\n",
       "    .dataframe thead th {\n",
       "        text-align: right;\n",
       "    }\n",
       "</style>\n",
       "<table border=\"1\" class=\"dataframe\">\n",
       "  <thead>\n",
       "    <tr style=\"text-align: right;\">\n",
       "      <th></th>\n",
       "      <th>Name</th>\n",
       "      <th>Year_of_Release</th>\n",
       "      <th>Genre</th>\n",
       "      <th>Global_Sales</th>\n",
       "      <th>Rating</th>\n",
       "    </tr>\n",
       "  </thead>\n",
       "  <tbody>\n",
       "    <tr>\n",
       "      <th>0</th>\n",
       "      <td>Wii Sports</td>\n",
       "      <td>2006</td>\n",
       "      <td>Sports</td>\n",
       "      <td>82.53</td>\n",
       "      <td>E</td>\n",
       "    </tr>\n",
       "    <tr>\n",
       "      <th>2</th>\n",
       "      <td>Mario Kart Wii</td>\n",
       "      <td>2008</td>\n",
       "      <td>Racing</td>\n",
       "      <td>35.52</td>\n",
       "      <td>E</td>\n",
       "    </tr>\n",
       "    <tr>\n",
       "      <th>3</th>\n",
       "      <td>Wii Sports Resort</td>\n",
       "      <td>2009</td>\n",
       "      <td>Sports</td>\n",
       "      <td>32.77</td>\n",
       "      <td>E</td>\n",
       "    </tr>\n",
       "    <tr>\n",
       "      <th>6</th>\n",
       "      <td>New Super Mario Bros.</td>\n",
       "      <td>2006</td>\n",
       "      <td>Platform</td>\n",
       "      <td>29.80</td>\n",
       "      <td>E</td>\n",
       "    </tr>\n",
       "    <tr>\n",
       "      <th>7</th>\n",
       "      <td>Wii Play</td>\n",
       "      <td>2006</td>\n",
       "      <td>Misc</td>\n",
       "      <td>28.92</td>\n",
       "      <td>E</td>\n",
       "    </tr>\n",
       "  </tbody>\n",
       "</table>\n",
       "</div>"
      ],
      "text/plain": [
       "                    Name  Year_of_Release     Genre  Global_Sales Rating\n",
       "0             Wii Sports             2006    Sports         82.53      E\n",
       "2         Mario Kart Wii             2008    Racing         35.52      E\n",
       "3      Wii Sports Resort             2009    Sports         32.77      E\n",
       "6  New Super Mario Bros.             2006  Platform         29.80      E\n",
       "7               Wii Play             2006      Misc         28.92      E"
      ]
     },
     "metadata": {},
     "output_type": "display_data"
    },
    {
     "name": "stdout",
     "output_type": "stream",
     "text": [
      "\n",
      "\n",
      "<class 'pandas.core.frame.DataFrame'>\n",
      "Int64Index: 9769 entries, 0 to 16710\n",
      "Data columns (total 5 columns):\n",
      " #   Column           Non-Null Count  Dtype   \n",
      "---  ------           --------------  -----   \n",
      " 0   Name             9769 non-null   string  \n",
      " 1   Year_of_Release  9769 non-null   int64   \n",
      " 2   Genre            9769 non-null   category\n",
      " 3   Global_Sales     9769 non-null   float64 \n",
      " 4   Rating           9769 non-null   category\n",
      "dtypes: category(2), float64(1), int64(1), string(1)\n",
      "memory usage: 645.1 KB\n"
     ]
    },
    {
     "data": {
      "text/plain": [
       "None"
      ]
     },
     "metadata": {},
     "output_type": "display_data"
    }
   ],
   "source": [
    "# Set columns Genre and Rating to be categories and check the info again\n",
    "dataclean['Name'] = dataclean['Name'].astype(\"string\")\n",
    "dataclean['Year_of_Release'] = dataclean['Year_of_Release'].astype('int64')\n",
    "dataclean['Genre'] = dataclean['Genre'].astype('category')\n",
    "dataclean['Rating'] = dataclean['Rating'].astype('category')\n",
    "\n",
    "# Check if the Dtype for columns Genre and Rating are now changed to be category, and Year_of_Release is str\n",
    "display(dataclean.head())\n",
    "print(\"\\n\")\n",
    "display(dataclean.info())\n"
   ]
  },
  {
   "cell_type": "markdown",
   "metadata": {},
   "source": [
    "From the above, we have now set up the dataset data types the way we want them.  \n",
    "**Name** is now a string.  \n",
    "**Year_of_Release** is now an integer.  \n",
    "**Genre** and **Rating** are now both categories.  \n",
    "**Global_Sales** is now a float."
   ]
  },
  {
   "cell_type": "markdown",
   "metadata": {},
   "source": [
    "### Exploratory Data Analysis\n",
    "\n",
    "With everything now set up the way we need, and the data set is cleaned, we can proceed and begin with doing the EDA."
   ]
  },
  {
   "cell_type": "markdown",
   "metadata": {},
   "source": [
    "#### Unique Values Per Column\n",
    "\n",
    "The first thing we are interested in knowing is the unique values that we have per column for the **Genre** and **Rating**.  \n",
    "This will allow us to figure out how many genres of videogames are considered in this dataset, as well as the number of ratings that there are for he videogames."
   ]
  },
  {
   "cell_type": "code",
   "execution_count": 63,
   "metadata": {},
   "outputs": [
    {
     "name": "stdout",
     "output_type": "stream",
     "text": [
      "The following are the unique genres considered in the dataset: \n",
      " ['Sports', 'Racing', 'Platform', 'Misc', 'Action', 'Puzzle', 'Shooter', 'Fighting', 'Simulation', 'Role-Playing', 'Adventure', 'Strategy'] \n",
      "\n",
      "The following are the unique ratings considered in the dataset: \n",
      " ['E', 'M', 'T', 'E10+', 'AO', 'EC', 'RP']\n"
     ]
    }
   ],
   "source": [
    "# Unique values in Genre and Rating columns\n",
    "\n",
    "# Unique genres\n",
    "Videogame_Genres = list(dataclean.Genre.unique())\n",
    "\n",
    "# Unique ratings\n",
    "Videogame_Ratings = list(dataclean.Rating.unique())\n",
    "\n",
    "print('The following are the unique genres considered in the dataset:', '\\n', Videogame_Genres, '\\n')\n",
    "\n",
    "print('The following are the unique ratings considered in the dataset:', '\\n', Videogame_Ratings)"
   ]
  },
  {
   "cell_type": "markdown",
   "metadata": {},
   "source": [
    "Listing out the different unique genres present in the dataset, we see a total of 12 kinds of genre considered.\n",
    "\n",
    "In listing out the ratings, we see ratings like E, M, T, RP, etc. which indicates that these are Entertainment Software Rating Board (ESRB) Ratings. "
   ]
  },
  {
   "cell_type": "markdown",
   "metadata": {},
   "source": [
    "#### Videogame Sales Based on Genre\n",
    "\n",
    "The first question we want to address is to see which videogame genres sell the best! This can be done by looking into the column with the videogame **Genre** in the clean dataset and then look into the **Global_Sales** column. The idea to answer this question is to find the unique genres in the **Genre** column and then have a running sum for the values  for that row in the **Global_Sales** column."
   ]
  },
  {
   "cell_type": "code",
   "execution_count": 64,
   "metadata": {},
   "outputs": [
    {
     "name": "stdout",
     "output_type": "stream",
     "text": [
      "{'Sports': 980.19, 'Racing': 523.38, 'Platform': 414.69, 'Misc': 529.74, 'Action': 1332.62, 'Puzzle': 112.23, 'Shooter': 844.63, 'Fighting': 259.92, 'Simulation': 275.81, 'Role-Playing': 512.21, 'Adventure': 128.73, 'Strategy': 80.83}\n"
     ]
    }
   ],
   "source": [
    "# Begin setting up a dictionary for the genre_sales\n",
    "\n",
    "# Creates the genre_sales dictionary\n",
    "genre_sales = {    \n",
    "}\n",
    "\n",
    "\n",
    "# For each entry in the unique genres list (Videogame_Genres), \n",
    "# we want to make a new dictonary word and set it equal to 0 entries\n",
    "for word in Videogame_Genres:\n",
    "    genre_sales[word] = 0\n",
    "\n",
    "# We want to move through the rows in the indicies here...\n",
    "for rownumber in dataclean.index:\n",
    "    # and store the respecitive values for that row from the genre column and sales column...\n",
    "    genretype = dataclean.Genre[rownumber]\n",
    "    gamesales = dataclean.Global_Sales[rownumber]\n",
    "    # now check for the item in Videogame_Genres...\n",
    "    for uniquegenre in Videogame_Genres:\n",
    "        # if they are both equal\n",
    "        if uniquegenre == genretype:\n",
    "            # then add the value in the game sales column to that genre word stored in the dictionary!\n",
    "            genre_sales[uniquegenre] += gamesales\n",
    "\n",
    "# Format the values attached to the dictionary keys so that they have two decimal points (like in the original dataset)\n",
    "for key in genre_sales:\n",
    "    genre_sales[key] = round(genre_sales[key], 2)\n",
    "    \n",
    "print(genre_sales)"
   ]
  },
  {
   "cell_type": "markdown",
   "metadata": {},
   "source": [
    "#### Genre_Sales Dictionary\n",
    "\n",
    "Above, we created a genre_sales dictionary that holds every unique genre present in the dataset, and has the respecitive summation of all the sales made for that specific genre! \\\n",
    "From this, we can proceed to making a bar chart based on what is stored in this dictionary."
   ]
  },
  {
   "cell_type": "markdown",
   "metadata": {},
   "source": [
    "#### Genres VS Sales Bar Chart\n",
    "\n",
    "Here, we will be creating our Genres versus Sales Bar Chart."
   ]
  },
  {
   "cell_type": "code",
   "execution_count": 65,
   "metadata": {},
   "outputs": [
    {
     "data": {
      "image/png": "[encoded data removed]",
      "text/plain": [
       "<Figure size 432x288 with 1 Axes>"
      ]
     },
     "metadata": {
      "needs_background": "light"
     },
     "output_type": "display_data"
    }
   ],
   "source": [
    "# Genres vs sales bar chart\n",
    "\n",
    "indicies = list(range(len(Videogame_Genres)))\n",
    "barpositions = list(range(len(Videogame_Genres)))\n",
    "y = list(genre_sales.values())\n",
    "labels = list(genre_sales.keys())\n",
    "\n",
    "# Setting up the plot here\n",
    "\n",
    "# Plot the x and y at a bar thickness of 0.9\n",
    "plt.bar(barpositions, y, 0.9, color='pink')\n",
    "axes = plt.gca()\n",
    "axes.set_ylim([0,2000])\n",
    "plt.title('Videogame Sales Per Genre')\n",
    "plt.xlabel('Videogame Genres')\n",
    "plt.ylabel('Sales (Millions of $)')\n",
    "plt.xticks(barpositions, labels, rotation='vertical')\n",
    "for index in range(len(y)): \n",
    "    plt.text(barpositions[index], y[index], '  ' + str(y[index]), rotation='vertical')\n",
    "\n",
    "\n",
    "# Show the plot\n",
    "plt.show()"
   ]
  },
  {
   "cell_type": "markdown",
   "metadata": {},
   "source": [
    "From the above bar chart, we see that the *most popular game genre* is **Action**, followed by **Sports** and **Shooter** close behind. \\\n",
    "For the top three genres, we want to quickly take a look at some of the top sellers in each genre and check if there are any game series or titles that are easily recognizable. "
   ]
  },
  {
   "cell_type": "code",
   "execution_count": 66,
   "metadata": {
    "scrolled": true
   },
   "outputs": [
    {
     "name": "stdout",
     "output_type": "stream",
     "text": [
      "Action Games:\n"
     ]
    },
    {
     "data": {
      "text/html": [
       "<div>\n",
       "<style scoped>\n",
       "    .dataframe tbody tr th:only-of-type {\n",
       "        vertical-align: middle;\n",
       "    }\n",
       "\n",
       "    .dataframe tbody tr th {\n",
       "        vertical-align: top;\n",
       "    }\n",
       "\n",
       "    .dataframe thead th {\n",
       "        text-align: right;\n",
       "    }\n",
       "</style>\n",
       "<table border=\"1\" class=\"dataframe\">\n",
       "  <thead>\n",
       "    <tr style=\"text-align: right;\">\n",
       "      <th></th>\n",
       "      <th>Name</th>\n",
       "      <th>Year_of_Release</th>\n",
       "      <th>Genre</th>\n",
       "      <th>Global_Sales</th>\n",
       "      <th>Rating</th>\n",
       "    </tr>\n",
       "  </thead>\n",
       "  <tbody>\n",
       "    <tr>\n",
       "      <th>16</th>\n",
       "      <td>Grand Theft Auto V</td>\n",
       "      <td>2013</td>\n",
       "      <td>Action</td>\n",
       "      <td>21.04</td>\n",
       "      <td>M</td>\n",
       "    </tr>\n",
       "    <tr>\n",
       "      <th>17</th>\n",
       "      <td>Grand Theft Auto: San Andreas</td>\n",
       "      <td>2004</td>\n",
       "      <td>Action</td>\n",
       "      <td>20.81</td>\n",
       "      <td>M</td>\n",
       "    </tr>\n",
       "    <tr>\n",
       "      <th>23</th>\n",
       "      <td>Grand Theft Auto V</td>\n",
       "      <td>2013</td>\n",
       "      <td>Action</td>\n",
       "      <td>16.27</td>\n",
       "      <td>M</td>\n",
       "    </tr>\n",
       "    <tr>\n",
       "      <th>24</th>\n",
       "      <td>Grand Theft Auto: Vice City</td>\n",
       "      <td>2002</td>\n",
       "      <td>Action</td>\n",
       "      <td>16.15</td>\n",
       "      <td>M</td>\n",
       "    </tr>\n",
       "    <tr>\n",
       "      <th>38</th>\n",
       "      <td>Grand Theft Auto III</td>\n",
       "      <td>2001</td>\n",
       "      <td>Action</td>\n",
       "      <td>13.10</td>\n",
       "      <td>M</td>\n",
       "    </tr>\n",
       "    <tr>\n",
       "      <th>...</th>\n",
       "      <td>...</td>\n",
       "      <td>...</td>\n",
       "      <td>...</td>\n",
       "      <td>...</td>\n",
       "      <td>...</td>\n",
       "    </tr>\n",
       "    <tr>\n",
       "      <th>16658</th>\n",
       "      <td>Ben 10 Omniverse 2</td>\n",
       "      <td>2013</td>\n",
       "      <td>Action</td>\n",
       "      <td>0.01</td>\n",
       "      <td>E10+</td>\n",
       "    </tr>\n",
       "    <tr>\n",
       "      <th>16667</th>\n",
       "      <td>E.T. The Extra-Terrestrial</td>\n",
       "      <td>2001</td>\n",
       "      <td>Action</td>\n",
       "      <td>0.01</td>\n",
       "      <td>E</td>\n",
       "    </tr>\n",
       "    <tr>\n",
       "      <th>16676</th>\n",
       "      <td>Metal Gear Solid V: The Definitive Experience</td>\n",
       "      <td>2016</td>\n",
       "      <td>Action</td>\n",
       "      <td>0.01</td>\n",
       "      <td>M</td>\n",
       "    </tr>\n",
       "    <tr>\n",
       "      <th>16696</th>\n",
       "      <td>Metal Gear Solid V: Ground Zeroes</td>\n",
       "      <td>2014</td>\n",
       "      <td>Action</td>\n",
       "      <td>0.01</td>\n",
       "      <td>M</td>\n",
       "    </tr>\n",
       "    <tr>\n",
       "      <th>16699</th>\n",
       "      <td>Planet Monsters</td>\n",
       "      <td>2001</td>\n",
       "      <td>Action</td>\n",
       "      <td>0.01</td>\n",
       "      <td>E</td>\n",
       "    </tr>\n",
       "  </tbody>\n",
       "</table>\n",
       "<p>2146 rows × 5 columns</p>\n",
       "</div>"
      ],
      "text/plain": [
       "                                                Name  Year_of_Release   Genre  \\\n",
       "16                                Grand Theft Auto V             2013  Action   \n",
       "17                     Grand Theft Auto: San Andreas             2004  Action   \n",
       "23                                Grand Theft Auto V             2013  Action   \n",
       "24                       Grand Theft Auto: Vice City             2002  Action   \n",
       "38                              Grand Theft Auto III             2001  Action   \n",
       "...                                              ...              ...     ...   \n",
       "16658                             Ben 10 Omniverse 2             2013  Action   \n",
       "16667                     E.T. The Extra-Terrestrial             2001  Action   \n",
       "16676  Metal Gear Solid V: The Definitive Experience             2016  Action   \n",
       "16696              Metal Gear Solid V: Ground Zeroes             2014  Action   \n",
       "16699                                Planet Monsters             2001  Action   \n",
       "\n",
       "       Global_Sales Rating  \n",
       "16            21.04      M  \n",
       "17            20.81      M  \n",
       "23            16.27      M  \n",
       "24            16.15      M  \n",
       "38            13.10      M  \n",
       "...             ...    ...  \n",
       "16658          0.01   E10+  \n",
       "16667          0.01      E  \n",
       "16676          0.01      M  \n",
       "16696          0.01      M  \n",
       "16699          0.01      E  \n",
       "\n",
       "[2146 rows x 5 columns]"
      ]
     },
     "metadata": {},
     "output_type": "display_data"
    },
    {
     "name": "stdout",
     "output_type": "stream",
     "text": [
      "Sports Games:\n"
     ]
    },
    {
     "data": {
      "text/html": [
       "<div>\n",
       "<style scoped>\n",
       "    .dataframe tbody tr th:only-of-type {\n",
       "        vertical-align: middle;\n",
       "    }\n",
       "\n",
       "    .dataframe tbody tr th {\n",
       "        vertical-align: top;\n",
       "    }\n",
       "\n",
       "    .dataframe thead th {\n",
       "        text-align: right;\n",
       "    }\n",
       "</style>\n",
       "<table border=\"1\" class=\"dataframe\">\n",
       "  <thead>\n",
       "    <tr style=\"text-align: right;\">\n",
       "      <th></th>\n",
       "      <th>Name</th>\n",
       "      <th>Year_of_Release</th>\n",
       "      <th>Genre</th>\n",
       "      <th>Global_Sales</th>\n",
       "      <th>Rating</th>\n",
       "    </tr>\n",
       "  </thead>\n",
       "  <tbody>\n",
       "    <tr>\n",
       "      <th>0</th>\n",
       "      <td>Wii Sports</td>\n",
       "      <td>2006</td>\n",
       "      <td>Sports</td>\n",
       "      <td>82.53</td>\n",
       "      <td>E</td>\n",
       "    </tr>\n",
       "    <tr>\n",
       "      <th>3</th>\n",
       "      <td>Wii Sports Resort</td>\n",
       "      <td>2009</td>\n",
       "      <td>Sports</td>\n",
       "      <td>32.77</td>\n",
       "      <td>E</td>\n",
       "    </tr>\n",
       "    <tr>\n",
       "      <th>13</th>\n",
       "      <td>Wii Fit</td>\n",
       "      <td>2007</td>\n",
       "      <td>Sports</td>\n",
       "      <td>22.70</td>\n",
       "      <td>E</td>\n",
       "    </tr>\n",
       "    <tr>\n",
       "      <th>15</th>\n",
       "      <td>Wii Fit Plus</td>\n",
       "      <td>2009</td>\n",
       "      <td>Sports</td>\n",
       "      <td>21.79</td>\n",
       "      <td>E</td>\n",
       "    </tr>\n",
       "    <tr>\n",
       "      <th>77</th>\n",
       "      <td>FIFA 16</td>\n",
       "      <td>2015</td>\n",
       "      <td>Sports</td>\n",
       "      <td>8.57</td>\n",
       "      <td>E</td>\n",
       "    </tr>\n",
       "    <tr>\n",
       "      <th>...</th>\n",
       "      <td>...</td>\n",
       "      <td>...</td>\n",
       "      <td>...</td>\n",
       "      <td>...</td>\n",
       "      <td>...</td>\n",
       "    </tr>\n",
       "    <tr>\n",
       "      <th>16555</th>\n",
       "      <td>Winning Eleven: Pro Evolution Soccer 2007</td>\n",
       "      <td>2006</td>\n",
       "      <td>Sports</td>\n",
       "      <td>0.01</td>\n",
       "      <td>E</td>\n",
       "    </tr>\n",
       "    <tr>\n",
       "      <th>16566</th>\n",
       "      <td>Outdoors Unleashed: Alaska 3D</td>\n",
       "      <td>2011</td>\n",
       "      <td>Sports</td>\n",
       "      <td>0.01</td>\n",
       "      <td>T</td>\n",
       "    </tr>\n",
       "    <tr>\n",
       "      <th>16642</th>\n",
       "      <td>Tour de France 2014</td>\n",
       "      <td>2014</td>\n",
       "      <td>Sports</td>\n",
       "      <td>0.01</td>\n",
       "      <td>E</td>\n",
       "    </tr>\n",
       "    <tr>\n",
       "      <th>16647</th>\n",
       "      <td>Rugby Challenge 3</td>\n",
       "      <td>2016</td>\n",
       "      <td>Sports</td>\n",
       "      <td>0.01</td>\n",
       "      <td>E</td>\n",
       "    </tr>\n",
       "    <tr>\n",
       "      <th>16692</th>\n",
       "      <td>Outdoors Unleashed: Africa 3D</td>\n",
       "      <td>2011</td>\n",
       "      <td>Sports</td>\n",
       "      <td>0.01</td>\n",
       "      <td>T</td>\n",
       "    </tr>\n",
       "  </tbody>\n",
       "</table>\n",
       "<p>1478 rows × 5 columns</p>\n",
       "</div>"
      ],
      "text/plain": [
       "                                            Name  Year_of_Release   Genre  \\\n",
       "0                                     Wii Sports             2006  Sports   \n",
       "3                              Wii Sports Resort             2009  Sports   \n",
       "13                                       Wii Fit             2007  Sports   \n",
       "15                                  Wii Fit Plus             2009  Sports   \n",
       "77                                       FIFA 16             2015  Sports   \n",
       "...                                          ...              ...     ...   \n",
       "16555  Winning Eleven: Pro Evolution Soccer 2007             2006  Sports   \n",
       "16566              Outdoors Unleashed: Alaska 3D             2011  Sports   \n",
       "16642                        Tour de France 2014             2014  Sports   \n",
       "16647                          Rugby Challenge 3             2016  Sports   \n",
       "16692              Outdoors Unleashed: Africa 3D             2011  Sports   \n",
       "\n",
       "       Global_Sales Rating  \n",
       "0             82.53      E  \n",
       "3             32.77      E  \n",
       "13            22.70      E  \n",
       "15            21.79      E  \n",
       "77             8.57      E  \n",
       "...             ...    ...  \n",
       "16555          0.01      E  \n",
       "16566          0.01      T  \n",
       "16642          0.01      E  \n",
       "16647          0.01      E  \n",
       "16692          0.01      T  \n",
       "\n",
       "[1478 rows x 5 columns]"
      ]
     },
     "metadata": {},
     "output_type": "display_data"
    },
    {
     "name": "stdout",
     "output_type": "stream",
     "text": [
      "Shooter Games:\n"
     ]
    },
    {
     "data": {
      "text/html": [
       "<div>\n",
       "<style scoped>\n",
       "    .dataframe tbody tr th:only-of-type {\n",
       "        vertical-align: middle;\n",
       "    }\n",
       "\n",
       "    .dataframe tbody tr th {\n",
       "        vertical-align: top;\n",
       "    }\n",
       "\n",
       "    .dataframe thead th {\n",
       "        text-align: right;\n",
       "    }\n",
       "</style>\n",
       "<table border=\"1\" class=\"dataframe\">\n",
       "  <thead>\n",
       "    <tr style=\"text-align: right;\">\n",
       "      <th></th>\n",
       "      <th>Name</th>\n",
       "      <th>Year_of_Release</th>\n",
       "      <th>Genre</th>\n",
       "      <th>Global_Sales</th>\n",
       "      <th>Rating</th>\n",
       "    </tr>\n",
       "  </thead>\n",
       "  <tbody>\n",
       "    <tr>\n",
       "      <th>29</th>\n",
       "      <td>Call of Duty: Modern Warfare 3</td>\n",
       "      <td>2011</td>\n",
       "      <td>Shooter</td>\n",
       "      <td>14.73</td>\n",
       "      <td>M</td>\n",
       "    </tr>\n",
       "    <tr>\n",
       "      <th>32</th>\n",
       "      <td>Call of Duty: Black Ops</td>\n",
       "      <td>2010</td>\n",
       "      <td>Shooter</td>\n",
       "      <td>14.61</td>\n",
       "      <td>M</td>\n",
       "    </tr>\n",
       "    <tr>\n",
       "      <th>34</th>\n",
       "      <td>Call of Duty: Black Ops II</td>\n",
       "      <td>2012</td>\n",
       "      <td>Shooter</td>\n",
       "      <td>13.79</td>\n",
       "      <td>M</td>\n",
       "    </tr>\n",
       "    <tr>\n",
       "      <th>35</th>\n",
       "      <td>Call of Duty: Black Ops II</td>\n",
       "      <td>2012</td>\n",
       "      <td>Shooter</td>\n",
       "      <td>13.67</td>\n",
       "      <td>M</td>\n",
       "    </tr>\n",
       "    <tr>\n",
       "      <th>36</th>\n",
       "      <td>Call of Duty: Modern Warfare 2</td>\n",
       "      <td>2009</td>\n",
       "      <td>Shooter</td>\n",
       "      <td>13.47</td>\n",
       "      <td>M</td>\n",
       "    </tr>\n",
       "    <tr>\n",
       "      <th>...</th>\n",
       "      <td>...</td>\n",
       "      <td>...</td>\n",
       "      <td>...</td>\n",
       "      <td>...</td>\n",
       "      <td>...</td>\n",
       "    </tr>\n",
       "    <tr>\n",
       "      <th>16433</th>\n",
       "      <td>Greg Hastings' Tournament Paintball Max'd</td>\n",
       "      <td>2006</td>\n",
       "      <td>Shooter</td>\n",
       "      <td>0.01</td>\n",
       "      <td>E10+</td>\n",
       "    </tr>\n",
       "    <tr>\n",
       "      <th>16541</th>\n",
       "      <td>Clive Barker's Jericho</td>\n",
       "      <td>2007</td>\n",
       "      <td>Shooter</td>\n",
       "      <td>0.01</td>\n",
       "      <td>M</td>\n",
       "    </tr>\n",
       "    <tr>\n",
       "      <th>16581</th>\n",
       "      <td>Space Raiders</td>\n",
       "      <td>2003</td>\n",
       "      <td>Shooter</td>\n",
       "      <td>0.01</td>\n",
       "      <td>T</td>\n",
       "    </tr>\n",
       "    <tr>\n",
       "      <th>16700</th>\n",
       "      <td>Breach</td>\n",
       "      <td>2011</td>\n",
       "      <td>Shooter</td>\n",
       "      <td>0.01</td>\n",
       "      <td>T</td>\n",
       "    </tr>\n",
       "    <tr>\n",
       "      <th>16710</th>\n",
       "      <td>Men in Black II: Alien Escape</td>\n",
       "      <td>2003</td>\n",
       "      <td>Shooter</td>\n",
       "      <td>0.01</td>\n",
       "      <td>T</td>\n",
       "    </tr>\n",
       "  </tbody>\n",
       "</table>\n",
       "<p>996 rows × 5 columns</p>\n",
       "</div>"
      ],
      "text/plain": [
       "                                            Name  Year_of_Release    Genre  \\\n",
       "29                Call of Duty: Modern Warfare 3             2011  Shooter   \n",
       "32                       Call of Duty: Black Ops             2010  Shooter   \n",
       "34                    Call of Duty: Black Ops II             2012  Shooter   \n",
       "35                    Call of Duty: Black Ops II             2012  Shooter   \n",
       "36                Call of Duty: Modern Warfare 2             2009  Shooter   \n",
       "...                                          ...              ...      ...   \n",
       "16433  Greg Hastings' Tournament Paintball Max'd             2006  Shooter   \n",
       "16541                     Clive Barker's Jericho             2007  Shooter   \n",
       "16581                              Space Raiders             2003  Shooter   \n",
       "16700                                     Breach             2011  Shooter   \n",
       "16710              Men in Black II: Alien Escape             2003  Shooter   \n",
       "\n",
       "       Global_Sales Rating  \n",
       "29            14.73      M  \n",
       "32            14.61      M  \n",
       "34            13.79      M  \n",
       "35            13.67      M  \n",
       "36            13.47      M  \n",
       "...             ...    ...  \n",
       "16433          0.01   E10+  \n",
       "16541          0.01      M  \n",
       "16581          0.01      T  \n",
       "16700          0.01      T  \n",
       "16710          0.01      T  \n",
       "\n",
       "[996 rows x 5 columns]"
      ]
     },
     "metadata": {},
     "output_type": "display_data"
    }
   ],
   "source": [
    "# What are the action, sports, and shooter games?\n",
    "\n",
    "print(\"Action Games:\")\n",
    "display(dataclean.loc[dataclean['Genre'] == 'Action'])\n",
    "\n",
    "print(\"Sports Games:\")\n",
    "display(dataclean.loc[dataclean['Genre'] == 'Sports'])\n",
    "\n",
    "print(\"Shooter Games:\")\n",
    "display(dataclean.loc[dataclean['Genre'] == 'Shooter'])\n"
   ]
  },
  {
   "cell_type": "markdown",
   "metadata": {},
   "source": [
    "**Action Games**: \\\n",
    "Here we see that we have a total of 2146 rows, meaning that there are 2146 games that are classed as being Action games. The first give games printed \n",
    "\n",
    "...\n",
    "\n",
    "...\n",
    "\n",
    "..."
   ]
  },
  {
   "cell_type": "markdown",
   "metadata": {},
   "source": [
    "#### Normalized Bar Chart for Genre and Sales"
   ]
  },
  {
   "cell_type": "code",
   "execution_count": 67,
   "metadata": {},
   "outputs": [
    {
     "name": "stdout",
     "output_type": "stream",
     "text": [
      "{'Sports': 0.66, 'Racing': 0.61, 'Platform': 0.74, 'Misc': 0.61, 'Action': 0.62, 'Puzzle': 0.33, 'Shooter': 0.85, 'Fighting': 0.6, 'Simulation': 0.49, 'Role-Playing': 0.67, 'Adventure': 0.29, 'Strategy': 0.24}\n"
     ]
    }
   ],
   "source": [
    "# Create a new normalized dictionary to hold normalized_genre_sales\n",
    "normalized_genre_sales = {    \n",
    "}\n",
    "\n",
    "for word in Videogame_Genres:\n",
    "    normalized_genre_sales[word] = round(genre_sales[word]/len(dataclean.loc[dataclean['Genre'] == word]), 2)\n",
    "    \n",
    "print(normalized_genre_sales)\n"
   ]
  },
  {
   "cell_type": "code",
   "execution_count": 68,
   "metadata": {},
   "outputs": [
    {
     "data": {
      "image/png": "[encoded data removed]",
      "text/plain": [
       "<Figure size 432x288 with 1 Axes>"
      ]
     },
     "metadata": {
      "needs_background": "light"
     },
     "output_type": "display_data"
    }
   ],
   "source": [
    "# Genres vs sales bar chart\n",
    "\n",
    "indicies = list(range(len(Videogame_Genres)))\n",
    "barpositions = list(range(len(Videogame_Genres)))\n",
    "y = list(normalized_genre_sales.values())\n",
    "labels = list(normalized_genre_sales.keys())\n",
    "\n",
    "# Setting up the plot here\n",
    "\n",
    "# Plot the x and y at a bar thickness of 0.9\n",
    "plt.bar(barpositions, y, 0.9, color='pink')\n",
    "axes = plt.gca()\n",
    "axes.set_ylim([0,1.0])\n",
    "plt.title('Videogame Sales Per Genre (Normalized)')\n",
    "plt.xlabel('Videogame Genres')\n",
    "plt.ylabel('Sales (Millions of $)')\n",
    "plt.xticks(barpositions, labels, rotation='vertical')\n",
    "for index in range(len(y)): \n",
    "    plt.text(barpositions[index], y[index], '  ' + str(y[index]), rotation='vertical')\n",
    "\n",
    "\n",
    "# Show the plot\n",
    "plt.show()"
   ]
  },
  {
   "cell_type": "markdown",
   "metadata": {},
   "source": [
    "#### Videogame Sales Based on Rating\n",
    "*edit*\n",
    "The second question we want to address is to see which videogame genres sell the best! This can be done by looking into the column with the videogame **Genre** in the clean dataset and then look into the **Global_Sales** column. The idea to answer this question is to find the unique genres in the **Genre** column and then have a running sum for the values  for that row in the **Global_Sales** column.\n",
    "\n",
    "In the same way..."
   ]
  },
  {
   "cell_type": "code",
   "execution_count": 69,
   "metadata": {},
   "outputs": [
    {
     "name": "stdout",
     "output_type": "stream",
     "text": [
      "{'E': 2413.29, 'M': 1462.6, 'T': 1474.13, 'E10+': 641.2, 'AO': 1.95, 'EC': 1.78, 'RP': 0.03}\n"
     ]
    }
   ],
   "source": [
    "# Begin setting up a dictionary for the rating_sales\n",
    "\n",
    "# Creates the rating_sales dictionary\n",
    "rating_sales = {    \n",
    "}\n",
    "\n",
    "# Takes the indicies of the dataclean dataframe\n",
    "index = dataclean.index\n",
    "\n",
    "# For each entry in the unique genres list (Videogame_Ratings), \n",
    "# we want to make a new dictonary word and set it equal to 0 entries\n",
    "for word in Videogame_Ratings:\n",
    "    rating_sales[word] = 0\n",
    "\n",
    "# We want to move through the rows in the indicies here...\n",
    "for rownumber in dataclean.index:\n",
    "    # and store the respecitive values for that row from the rating column and sales column...\n",
    "    ratingtype = dataclean.Rating[rownumber]\n",
    "    gamesales = dataclean.Global_Sales[rownumber]\n",
    "    # now check for the item in Videogame_Ratings...\n",
    "    for uniquerating in Videogame_Ratings:\n",
    "        # if they are both equal\n",
    "        if uniquerating == ratingtype:\n",
    "            # then add the value in the game sales column to that rating letter stored in the dictionary!\n",
    "            rating_sales[uniquerating] += gamesales\n",
    "\n",
    "# Format the values attached to the dictionary keys so that they have two decimal points (like in the original dataset)\n",
    "for key in rating_sales:\n",
    "    rating_sales[key] = round(rating_sales[key], 2)\n",
    "    \n",
    "print(rating_sales)"
   ]
  },
  {
   "cell_type": "markdown",
   "metadata": {},
   "source": [
    "#### Rating_Sales Dictionary\n",
    "\n",
    "Above, we created a rating_sales dictionary that holds every unique genre present in the dataset, and has the respecitive summation of all the sales made for that specific rating! \\\n",
    "From this, we can proceed to making a bar chart based on what is stored in this dictionary."
   ]
  },
  {
   "cell_type": "markdown",
   "metadata": {},
   "source": []
  },
  {
   "cell_type": "code",
   "execution_count": 70,
   "metadata": {},
   "outputs": [
    {
     "data": {
      "image/png": "[encoded data removed]",
      "text/plain": [
       "<Figure size 432x288 with 1 Axes>"
      ]
     },
     "metadata": {
      "needs_background": "light"
     },
     "output_type": "display_data"
    }
   ],
   "source": [
    "# CAN IMPROVE THIS!\n",
    "\n",
    "# Ratings vs sales bar chart\n",
    "\n",
    "indicies = list(range(len(Videogame_Genres)))\n",
    "barpositions = list(range(len(Videogame_Ratings)))\n",
    "y = list(rating_sales.values())\n",
    "labels = list(rating_sales.keys())\n",
    "\n",
    "# Setting up the plot here\n",
    "\n",
    "# Plot the x and y at a bar thickness of 0.9\n",
    "plt.bar(barpositions, y, 0.9, color='pink')\n",
    "axes = plt.gca()\n",
    "axes.set_ylim([0,3500])\n",
    "plt.title('Videogame Sales by Game Rating')\n",
    "plt.xlabel('Videogame Genres')\n",
    "plt.ylabel('Sales (Millions of $)')\n",
    "plt.xticks(barpositions, labels, rotation='vertical')\n",
    "for index in range(len(y)): \n",
    "    plt.text(barpositions[index], y[index], '  ' + str(y[index]), rotation='vertical')\n",
    "\n",
    "\n",
    "# Show the plot\n",
    "plt.show()"
   ]
  },
  {
   "cell_type": "markdown",
   "metadata": {},
   "source": [
    "discussion!"
   ]
  },
  {
   "cell_type": "markdown",
   "metadata": {},
   "source": [
    "Normalize the Sales by Rating "
   ]
  },
  {
   "cell_type": "code",
   "execution_count": 71,
   "metadata": {},
   "outputs": [
    {
     "name": "stdout",
     "output_type": "stream",
     "text": [
      "{'E': 0.61, 'M': 0.95, 'T': 0.51, 'E10+': 0.46, 'AO': 1.95, 'EC': 0.22, 'RP': 0.03}\n"
     ]
    }
   ],
   "source": [
    "# Create a new normalized dictionary to hold normalized_genre_sales\n",
    "normalized_rating_sales = {    \n",
    "}\n",
    "\n",
    "for word in Videogame_Ratings:\n",
    "    normalized_rating_sales[word] = round(rating_sales[word]/len(dataclean.loc[dataclean['Rating'] == word]), 2)\n",
    "    \n",
    "print(normalized_rating_sales)"
   ]
  },
  {
   "cell_type": "code",
   "execution_count": 72,
   "metadata": {},
   "outputs": [
    {
     "data": {
      "image/png": "[encoded data removed]",
      "text/plain": [
       "<Figure size 432x288 with 1 Axes>"
      ]
     },
     "metadata": {
      "needs_background": "light"
     },
     "output_type": "display_data"
    }
   ],
   "source": [
    "# Genres vs sales bar chart\n",
    "\n",
    "indicies = list(range(len(Videogame_Ratings)))\n",
    "barpositions = list(range(len(Videogame_Ratings)))\n",
    "y = list(normalized_rating_sales.values())\n",
    "labels = list(normalized_rating_sales.keys())\n",
    "\n",
    "# Setting up the plot here\n",
    "\n",
    "# Plot the x and y at a bar thickness of 0.9\n",
    "plt.bar(barpositions, y, 0.9, color='pink')\n",
    "axes = plt.gca()\n",
    "axes.set_ylim([0,3.0])\n",
    "plt.title('Videogame Sales by Rating (Normalized)')\n",
    "plt.xlabel('Videogame Ratings')\n",
    "plt.ylabel('Sales (Millions of $)')\n",
    "plt.xticks(barpositions, labels, rotation='vertical')\n",
    "for index in range(len(y)): \n",
    "    plt.text(barpositions[index], y[index], '  ' + str(y[index]), rotation='vertical')\n",
    "\n",
    "\n",
    "# Show the plot\n",
    "plt.show()"
   ]
  },
  {
   "cell_type": "markdown",
   "metadata": {},
   "source": [
    "GTA San Adreas is the only AO game, a someone accessed hidden code in the game and activated it"
   ]
  },
  {
   "cell_type": "markdown",
   "metadata": {},
   "source": [
    "### Find the games that had the first ratings\n",
    "\n"
   ]
  },
  {
   "cell_type": "code",
   "execution_count": 120,
   "metadata": {},
   "outputs": [
    {
     "name": "stdout",
     "output_type": "stream",
     "text": [
      "The earliest game on the list is: Alter Ego\n",
      "It was originally released in 1985\n",
      "It was rereleased on the PC platform\n"
     ]
    }
   ],
   "source": [
    "\n",
    "min_year_index = dataclean[['Year_of_Release']].idxmin()\n",
    "min_year_game = dataclean['Name'][min_year_index].item()\n",
    "min_year_platform = rawdata['Platform'][min_year_index].item()\n",
    "\n",
    "print('The earliest game on the list is:', min_year_game)\n",
    "print('It was originally released in', dataclean['Year_of_Release'].min())\n",
    "print('It was rereleased on the', min_year_platform, 'platform')\n"
   ]
  },
  {
   "cell_type": "code",
   "execution_count": 116,
   "metadata": {},
   "outputs": [
    {
     "data": {
      "text/plain": [
       "14472    1985\n",
       "14623    1988\n",
       "2612     1992\n",
       "14612    1992\n",
       "1567     1994\n",
       "         ... \n",
       "15200    2016\n",
       "1056     2016\n",
       "11584    2016\n",
       "2056     2016\n",
       "5936     2020\n",
       "Name: Year_of_Release, Length: 9769, dtype: int64"
      ]
     },
     "execution_count": 116,
     "metadata": {},
     "output_type": "execute_result"
    }
   ],
   "source": [
    "dataclean.Year_of_Release.sort_values(ascending=True)"
   ]
  },
  {
   "cell_type": "code",
   "execution_count": null,
   "metadata": {},
   "outputs": [],
   "source": []
  }
 ],
 "metadata": {
  "kernelspec": {
   "display_name": "Python 3",
   "language": "python",
   "name": "python3"
  },
  "language_info": {
   "codemirror_mode": {
    "name": "ipython",
    "version": 3
   },
   "file_extension": ".py",
   "mimetype": "text/x-python",
   "name": "python",
   "nbconvert_exporter": "python",
   "pygments_lexer": "ipython3",
   "version": "3.8.5"
  }
 },
 "nbformat": 4,
 "nbformat_minor": 4
}
